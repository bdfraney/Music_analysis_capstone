{
 "cells": [
  {
   "cell_type": "markdown",
   "metadata": {},
   "source": [
    "### Modeling on a small subset of data"
   ]
  },
  {
   "cell_type": "code",
   "execution_count": 67,
   "metadata": {},
   "outputs": [],
   "source": [
    "import tensorflow as tf\n",
    "from tensorflow.keras.layers import Dense, Dropout, Conv2D, Conv1D, Flatten, MaxPool1D\n",
    "from tensorflow.keras import Sequential\n",
    "\n",
    "from sklearn.model_selection import train_test_split\n",
    "from sklearn.preprocessing import StandardScaler, LabelEncoder, LabelBinarizer\n",
    "\n",
    "import pandas as pd\n",
    "import numpy as np\n",
    "import matplotlib.pyplot as plt\n",
    "import scipy\n",
    "\n",
    "import librosa\n",
    "from librosa import display, beat\n",
    "from librosa.feature import chroma_stft, melspectrogram\n",
    "import glob "
   ]
  },
  {
   "cell_type": "code",
   "execution_count": null,
   "metadata": {},
   "outputs": [],
   "source": [
    "def mfccs_parser(file, sample_rate=42000):\n",
    "\n",
    "    try:\n",
    "        \n",
    "          # here kaiser_fast is a technique used for faster extraction (though it does negatively affect quality)\n",
    "        X, sample_rate = librosa.load(file, sr=sample_rate, res_type='kaiser_fast') \n",
    "        \n",
    "          # we extract mfcc feature from data, Use the mean so that scale isn't an issue.\n",
    "        mfccs = np.mean(librosa.feature.mfcc(y=X, sr=sample_rate, n_mfcc=40).T,axis=0) \n",
    "        \n",
    "    except Exception as e:\n",
    "        print(\"Error encountered while parsing file: \", file)\n",
    "        return None, None\n",
    "\n",
    "#     feature = mfccs\n",
    "#     label = row\n",
    "\n",
    "    return mfccs"
   ]
  },
  {
   "cell_type": "code",
   "execution_count": null,
   "metadata": {},
   "outputs": [],
   "source": [
    "def enhanced_chroma_parser(file):\n",
    "\n",
    "    try:\n",
    "    \n",
    "    # Load in the song using kaiser_fast to speed up loading\n",
    "        y, sr = librosa.load(file, sr=42000, res_type='kaiser_fast')\n",
    "        \n",
    "        chroma_os = librosa.feature.chroma_cqt(y=y, sr=sr, bins_per_octave=12*3)\n",
    "        \n",
    "        y_harm = librosa.effects.harmonic(y=y, margin=8)\n",
    "        chroma_os_harm = librosa.feature.chroma_cqt(y=y_harm, sr=sr, bins_per_octave=12*3)\n",
    "        \n",
    "        chroma_filter = np.minimum(chroma_os_harm,\n",
    "                           librosa.decompose.nn_filter(chroma_os_harm,\n",
    "                                                       aggregate=np.median,\n",
    "                                                       metric='cosine'))\n",
    "        \n",
    "        chroma_smooth = np.mean(scipy.ndimage.median_filter(chroma_filter, size=(1, 9)).T, axis=0)\n",
    "    \n",
    "\n",
    "        \n",
    "    except Exception as e:\n",
    "        print(\"Error encountered while parsing file: \", file)\n",
    "        return None, None\n",
    "\n",
    "#     feature = mfccs\n",
    "#     label = row\n",
    "\n",
    "    return chroma_smooth"
   ]
  },
  {
   "cell_type": "code",
   "execution_count": null,
   "metadata": {},
   "outputs": [],
   "source": [
    "def static_tempo(file, bpm_estimate=120):\n",
    "    \n",
    "    y, sr = librosa.load(file, sr=42000, res_type=\"kaiser_fast\")\n",
    "    \n",
    "    onset_env = librosa.onset.onset_strength(y, sr=sr)\n",
    "    \n",
    "    tempo = librosa.beat.tempo(onset_envelope=onset_env, sr=sr, start_bpm=bpm_estimate)\n",
    "    \n",
    "    return tempo     "
   ]
  },
  {
   "cell_type": "code",
   "execution_count": null,
   "metadata": {
    "scrolled": true
   },
   "outputs": [],
   "source": [
    "# mfccs = np.empty((40,))\n",
    "# for files in glob.glob(\"D:\\MusicSubset\\*\\*.mp3\"):\n",
    "#     mfccs = np.vstack((mfccs, mfccs_parser(files)))"
   ]
  },
  {
   "cell_type": "code",
   "execution_count": null,
   "metadata": {},
   "outputs": [],
   "source": [
    "# np.savetxt('subset_mfccs_42000.npy', mfccs, delimiter=',')"
   ]
  },
  {
   "cell_type": "code",
   "execution_count": 122,
   "metadata": {},
   "outputs": [],
   "source": [
    "track_df = pd.read_csv('subset_df.csv')"
   ]
  },
  {
   "cell_type": "code",
   "execution_count": 134,
   "metadata": {
    "scrolled": true
   },
   "outputs": [],
   "source": [
    "# mfccs = np.loadtxt('subset_mfccs_42000.npy', delimiter= ',')\n",
    "mfccs = np.loadtxt('subset_mfccs.npy', delimiter=',')"
   ]
  },
  {
   "cell_type": "code",
   "execution_count": 135,
   "metadata": {},
   "outputs": [
    {
     "data": {
      "text/plain": [
       "(240, 40)"
      ]
     },
     "execution_count": 135,
     "metadata": {},
     "output_type": "execute_result"
    }
   ],
   "source": [
    "mfccs.shape"
   ]
  },
  {
   "cell_type": "code",
   "execution_count": 136,
   "metadata": {},
   "outputs": [],
   "source": [
    "X = mfccs\n",
    "y = track_df['genre']\n",
    "\n",
    "lb = LabelEncoder()\n",
    "\n",
    "y = tf.keras.utils.to_categorical(lb.fit_transform(y))"
   ]
  },
  {
   "cell_type": "code",
   "execution_count": 137,
   "metadata": {},
   "outputs": [],
   "source": [
    "# X = X.reshape((240, 40, 1))"
   ]
  },
  {
   "cell_type": "code",
   "execution_count": 138,
   "metadata": {},
   "outputs": [],
   "source": [
    "Xtrain, Xtest, ytrain, ytest = train_test_split(X, y, random_state=42, stratify=y )"
   ]
  },
  {
   "cell_type": "code",
   "execution_count": 139,
   "metadata": {},
   "outputs": [],
   "source": [
    "ss = StandardScaler()\n",
    "\n",
    "Xtrain_ss = ss.fit_transform(Xtrain)\n",
    "Xtest_ss = ss.transform(Xtest)"
   ]
  },
  {
   "cell_type": "code",
   "execution_count": 140,
   "metadata": {
    "scrolled": false
   },
   "outputs": [
    {
     "name": "stdout",
     "output_type": "stream",
     "text": [
      "(180, 40)\n",
      "(60, 40)\n",
      "(180, 6)\n",
      "(60, 6)\n"
     ]
    }
   ],
   "source": [
    "print(Xtrain_ss.shape)\n",
    "print(Xtest_ss.shape)\n",
    "print(ytrain.shape)\n",
    "print(ytest.shape)"
   ]
  },
  {
   "cell_type": "code",
   "execution_count": null,
   "metadata": {},
   "outputs": [],
   "source": [
    "cnn_model = Sequential()\n",
    "\n",
    "cnn_model.add(Conv1D(filters=6,\n",
    "                     kernel_size=(2),\n",
    "                     activation='relu',\n",
    "                     input_shape=(40,1)))\n",
    "\n",
    "cnn_model.add(MaxPool1D(pool_size = (2)))\n",
    "\n",
    "cnn_model.add(Conv1D(16,\n",
    "                     kernel_size=2,\n",
    "                     activation='relu'))\n",
    "\n",
    "cnn_model.add(MaxPool1D(pool_size=(2)))\n",
    "\n",
    "cnn_model.add(Flatten())\n",
    "\n",
    "cnn_model.add(Dense(128,\n",
    "                    activation='relu'))\n",
    "cnn_model.add(Dropout(0.5))\n",
    "\n",
    "cnn_model.add(Dense(6,\n",
    "                    activation=\"softmax\"))\n",
    "\n",
    "cnn_model.compile(loss='categorical_crossentropy',\n",
    "                  optimizer='adam',\n",
    "                  metrics=['accuracy'])"
   ]
  },
  {
   "cell_type": "code",
   "execution_count": null,
   "metadata": {},
   "outputs": [],
   "source": [
    "history = cnn_model.fit(Xtrain,\n",
    "                        ytrain,\n",
    "                        batch_size=18,\n",
    "                        validation_data=(Xtest, ytest),\n",
    "                        epochs=200,\n",
    "                        verbose=0)"
   ]
  },
  {
   "cell_type": "code",
   "execution_count": null,
   "metadata": {},
   "outputs": [],
   "source": [
    "plt.plot(history.history['loss'], label='Train')\n",
    "plt.plot(history.history['val_loss'], label='Test')\n",
    "plt.legend();"
   ]
  },
  {
   "cell_type": "code",
   "execution_count": null,
   "metadata": {
    "scrolled": true
   },
   "outputs": [],
   "source": [
    "plt.plot(subset_history.history['accuracy'], label='Train')\n",
    "plt.plot(subset_history.history['val_accuracy'], label='Test')\n",
    "plt.legend();"
   ]
  },
  {
   "cell_type": "code",
   "execution_count": 141,
   "metadata": {},
   "outputs": [],
   "source": [
    "model = Sequential()\n",
    "\n",
    "model.add(Dense(256, input_shape=(40,), \n",
    "                       activation='relu'))\n",
    "model.add(Dropout(0.5))\n",
    "\n",
    "\n",
    "model.add(Dense(256, \n",
    "                       activation='relu'))\n",
    "model.add(Dropout(0.5))\n",
    "\n",
    "\n",
    "model.add(Dense(6, \n",
    "                    activation='softmax'))\n",
    "\n",
    "model.compile(\n",
    "    loss='categorical_crossentropy', \n",
    "    metrics=['accuracy'], \n",
    "    optimizer='adam')"
   ]
  },
  {
   "cell_type": "code",
   "execution_count": 142,
   "metadata": {
    "scrolled": false
   },
   "outputs": [
    {
     "name": "stdout",
     "output_type": "stream",
     "text": [
      "Train on 180 samples, validate on 60 samples\n",
      "Epoch 1/20\n",
      "180/180 [==============================] - 0s 2ms/sample - loss: 11.1092 - accuracy: 0.1611 - val_loss: 5.7635 - val_accuracy: 0.2667\n",
      "Epoch 2/20\n",
      "180/180 [==============================] - 0s 161us/sample - loss: 11.0095 - accuracy: 0.2278 - val_loss: 8.9299 - val_accuracy: 0.2667\n",
      "Epoch 3/20\n",
      "180/180 [==============================] - 0s 155us/sample - loss: 10.8729 - accuracy: 0.1944 - val_loss: 10.3133 - val_accuracy: 0.2667\n",
      "Epoch 4/20\n",
      "180/180 [==============================] - 0s 167us/sample - loss: 10.2096 - accuracy: 0.2556 - val_loss: 8.2814 - val_accuracy: 0.2667\n",
      "Epoch 5/20\n",
      "180/180 [==============================] - 0s 161us/sample - loss: 9.8142 - accuracy: 0.2722 - val_loss: 7.2162 - val_accuracy: 0.3333\n",
      "Epoch 6/20\n",
      "180/180 [==============================] - 0s 150us/sample - loss: 9.4249 - accuracy: 0.3056 - val_loss: 9.0382 - val_accuracy: 0.2833\n",
      "Epoch 7/20\n",
      "180/180 [==============================] - 0s 150us/sample - loss: 10.2402 - accuracy: 0.2833 - val_loss: 9.3055 - val_accuracy: 0.2833\n",
      "Epoch 8/20\n",
      "180/180 [==============================] - 0s 156us/sample - loss: 9.6923 - accuracy: 0.2833 - val_loss: 9.3559 - val_accuracy: 0.2833\n",
      "Epoch 9/20\n",
      "180/180 [==============================] - 0s 155us/sample - loss: 9.3923 - accuracy: 0.2944 - val_loss: 7.5900 - val_accuracy: 0.3333\n",
      "Epoch 10/20\n",
      "180/180 [==============================] - 0s 144us/sample - loss: 9.8817 - accuracy: 0.2444 - val_loss: 7.0924 - val_accuracy: 0.3833\n",
      "Epoch 11/20\n",
      "180/180 [==============================] - 0s 150us/sample - loss: 9.7875 - accuracy: 0.3000 - val_loss: 7.2461 - val_accuracy: 0.3667\n",
      "Epoch 12/20\n",
      "180/180 [==============================] - 0s 150us/sample - loss: 9.1529 - accuracy: 0.2944 - val_loss: 5.4714 - val_accuracy: 0.4167\n",
      "Epoch 13/20\n",
      "180/180 [==============================] - 0s 161us/sample - loss: 9.4724 - accuracy: 0.2778 - val_loss: 4.5596 - val_accuracy: 0.3833\n",
      "Epoch 14/20\n",
      "180/180 [==============================] - 0s 156us/sample - loss: 7.7847 - accuracy: 0.3444 - val_loss: 5.0278 - val_accuracy: 0.4000\n",
      "Epoch 15/20\n",
      "180/180 [==============================] - 0s 150us/sample - loss: 7.8033 - accuracy: 0.3667 - val_loss: 4.2428 - val_accuracy: 0.4000\n",
      "Epoch 16/20\n",
      "180/180 [==============================] - 0s 150us/sample - loss: 8.2276 - accuracy: 0.3556 - val_loss: 4.2841 - val_accuracy: 0.4667\n",
      "Epoch 17/20\n",
      "180/180 [==============================] - 0s 150us/sample - loss: 7.6079 - accuracy: 0.3389 - val_loss: 5.5378 - val_accuracy: 0.4500\n",
      "Epoch 18/20\n",
      "180/180 [==============================] - 0s 150us/sample - loss: 7.7590 - accuracy: 0.3556 - val_loss: 5.8662 - val_accuracy: 0.4333\n",
      "Epoch 19/20\n",
      "180/180 [==============================] - 0s 150us/sample - loss: 7.8344 - accuracy: 0.3444 - val_loss: 4.1387 - val_accuracy: 0.4833\n",
      "Epoch 20/20\n",
      "180/180 [==============================] - 0s 150us/sample - loss: 7.4156 - accuracy: 0.3500 - val_loss: 3.8612 - val_accuracy: 0.4500\n"
     ]
    }
   ],
   "source": [
    "subset_history = model.fit(\n",
    "    x=Xtrain,\n",
    "    y=ytrain,\n",
    "    batch_size=32,\n",
    "    epochs=20,\n",
    "    validation_data=(Xtest, ytest),\n",
    "    verbose=1\n",
    ")"
   ]
  },
  {
   "cell_type": "code",
   "execution_count": null,
   "metadata": {},
   "outputs": [],
   "source": [
    "# loss: 7.0039 - accuracy: 0.3667 - val_loss: 4.0871 - val_accuracy: 0.4500  # SR 22050\n",
    "# loss: 7.4156 - accuracy: 0.3500 - val_loss: 3.8612 - val_accuracy: 0.4500  # SR 42000"
   ]
  },
  {
   "cell_type": "code",
   "execution_count": null,
   "metadata": {},
   "outputs": [],
   "source": [
    "subset_history.history.keys()"
   ]
  },
  {
   "cell_type": "code",
   "execution_count": 132,
   "metadata": {},
   "outputs": [
    {
     "data": {
      "image/png": "[encoded data removed]",
      "text/plain": [
       "<Figure size 432x288 with 1 Axes>"
      ]
     },
     "metadata": {
      "needs_background": "light"
     },
     "output_type": "display_data"
    }
   ],
   "source": [
    "plt.plot(subset_history.history['loss'], label='Train')\n",
    "plt.plot(subset_history.history['val_loss'], label='Test')\n",
    "plt.legend();"
   ]
  },
  {
   "cell_type": "code",
   "execution_count": 133,
   "metadata": {},
   "outputs": [
    {
     "data": {
      "image/png": "[encoded data removed]",
      "text/plain": [
       "<Figure size 432x288 with 1 Axes>"
      ]
     },
     "metadata": {
      "needs_background": "light"
     },
     "output_type": "display_data"
    }
   ],
   "source": [
    "plt.plot(subset_history.history['accuracy'], label='Train')\n",
    "plt.plot(subset_history.history['val_accuracy'], label='Test')\n",
    "plt.legend();"
   ]
  },
  {
   "cell_type": "code",
   "execution_count": null,
   "metadata": {},
   "outputs": [],
   "source": []
  },
  {
   "cell_type": "code",
   "execution_count": null,
   "metadata": {},
   "outputs": [],
   "source": []
  }
 ],
 "metadata": {
  "kernelspec": {
   "display_name": "Python 3",
   "language": "python",
   "name": "python3"
  },
  "language_info": {
   "codemirror_mode": {
    "name": "ipython",
    "version": 3
   },
   "file_extension": ".py",
   "mimetype": "text/x-python",
   "name": "python",
   "nbconvert_exporter": "python",
   "pygments_lexer": "ipython3",
   "version": "3.7.4"
  },
  "pycharm": {
   "stem_cell": {
    "cell_type": "raw",
    "metadata": {
     "collapsed": false
    },
    "source": []
   }
  }
 },
 "nbformat": 4,
 "nbformat_minor": 2
}
