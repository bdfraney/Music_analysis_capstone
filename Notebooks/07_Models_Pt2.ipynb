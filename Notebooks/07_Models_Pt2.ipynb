{
 "cells": [
  {
   "cell_type": "markdown",
   "metadata": {},
   "source": [
    "# Dense Pt. 2\n",
    "---\n",
    "\n",
    "Training models on the MFCCs, Enhanced Chroma, and Tempo features\n",
    "\n",
    "*Unfortunately this is still only on the subset of data.  Parsing the whole songset has proven to be a much bigger resource chunk than I had though and consequently I am still left with my 240 song dataset.  In the previous notebook I had attempted to use the `multiprocessing` library to accelerate the process.  It took just under 4 hours to go through the whole songset with 8 cores running at 100% but when I went to use the data, the model wasn't learning anything and did the same or worse than baseline. I hope to solve this problem soon.*  \n",
    "\n",
    "So as of 8/26/19:\n",
    "\n",
    "My \"final\" model did ok, I was able to improve the initial accuracy and develop a dense NN that was a little more robust than the simpler ones.  There are many ways that to improve this, some I'd like to explore are using the Mel-freq spectrograms themselves (not coefficients) in a Convolutional2D Neural Network.  Convolutional1D layers could also be explored if I extract the features in the right dimension.  Additionally, I only included 1 'enhanced' feature that could be combined with other enhanced versions of the MFCCs or more to make the model more robust.  My final saved accuracy was 52% which will hopefully be improved once I am able to extract more robust features on the full dataset."
   ]
  },
  {
   "cell_type": "code",
   "execution_count": 1,
   "metadata": {},
   "outputs": [],
   "source": [
    "import pandas as pd\n",
    "import numpy as np\n",
    "import matplotlib.pyplot as plt\n",
    "import seaborn as sns\n",
    "\n",
    "import tensorflow as tf\n",
    "from tensorflow.keras.layers import Dense, Dropout, Conv1D, Flatten, MaxPool1D, Embedding, GlobalMaxPool1D\n",
    "from tensorflow.keras import Sequential\n",
    "\n",
    "from sklearn.model_selection import train_test_split\n",
    "from sklearn.preprocessing import StandardScaler, LabelEncoder\n"
   ]
  },
  {
   "cell_type": "code",
   "execution_count": 2,
   "metadata": {
    "scrolled": true
   },
   "outputs": [],
   "source": [
    "# song_df = pd.read_csv(\"../data/subset_df.csv\")\n",
    "# song_df.head()"
   ]
  },
  {
   "cell_type": "code",
   "execution_count": 3,
   "metadata": {},
   "outputs": [],
   "source": [
    "tempo1 = np.loadtxt(\"../data/subset_tempos1.npy\", delimiter=\",\")\n",
    "tempo2 = np.loadtxt(\"../data/subset_tempos_2.npy\", delimiter=\",\")\n",
    "mfcc = np.loadtxt(\"../data/subset_mfccs.npy\", delimiter=\",\")\n",
    "chroma = np.loadtxt(\"../data/subset_enh_chroma.npy\", delimiter=\",\")"
   ]
  },
  {
   "cell_type": "code",
   "execution_count": 58,
   "metadata": {},
   "outputs": [
    {
     "data": {
      "text/plain": [
       "(240, 12)"
      ]
     },
     "execution_count": 58,
     "metadata": {},
     "output_type": "execute_result"
    }
   ],
   "source": [
    "chroma.shape"
   ]
  },
  {
   "cell_type": "code",
   "execution_count": 62,
   "metadata": {},
   "outputs": [],
   "source": [
    "chroma_2D = chroma.reshape(240,12,1)\n",
    "mfcc_2d = mfcc.reshape(240,40,1)"
   ]
  },
  {
   "cell_type": "code",
   "execution_count": 76,
   "metadata": {},
   "outputs": [
    {
     "data": {
      "text/plain": [
       "(240, 12, 1)"
      ]
     },
     "execution_count": 76,
     "metadata": {},
     "output_type": "execute_result"
    }
   ],
   "source": [
    "chroma_2D.shape"
   ]
  },
  {
   "cell_type": "code",
   "execution_count": 4,
   "metadata": {},
   "outputs": [],
   "source": [
    "tempo = np.hstack((tempo1, tempo1))"
   ]
  },
  {
   "cell_type": "code",
   "execution_count": 5,
   "metadata": {},
   "outputs": [],
   "source": [
    "# print(chroma.shape)\n",
    "# print(tempo.shape)\n",
    "# print(mfcc.shape)"
   ]
  },
  {
   "cell_type": "code",
   "execution_count": 6,
   "metadata": {},
   "outputs": [],
   "source": [
    "# song_df['tempo'] = tempo"
   ]
  },
  {
   "cell_type": "code",
   "execution_count": 7,
   "metadata": {},
   "outputs": [],
   "source": [
    "chroma_df = pd.DataFrame(chroma, columns=['C', \"C#\",\"D\", \"D#\", \"E\", \"F\", \"F#\", \"G\", \"G#\", \"A\", \"A#\", \"B\"])\n",
    "mfcc_df = pd.DataFrame(mfcc)"
   ]
  },
  {
   "cell_type": "code",
   "execution_count": 8,
   "metadata": {},
   "outputs": [],
   "source": [
    "# song_df = pd.concat((df, chroma_df), axis=1)"
   ]
  },
  {
   "cell_type": "code",
   "execution_count": 9,
   "metadata": {},
   "outputs": [],
   "source": [
    "# song_df = pd.concat((df, mfcc_df), axis=1)"
   ]
  },
  {
   "cell_type": "code",
   "execution_count": 10,
   "metadata": {},
   "outputs": [],
   "source": [
    "# print(song_df.shape)\n",
    "# print(song_df.isnull().sum().sum())"
   ]
  },
  {
   "cell_type": "code",
   "execution_count": 11,
   "metadata": {},
   "outputs": [],
   "source": [
    "# song_df.to_csv(\"subset_full_df.csv\", index=False)"
   ]
  },
  {
   "cell_type": "code",
   "execution_count": 12,
   "metadata": {},
   "outputs": [
    {
     "data": {
      "text/html": [
       "<div>\n",
       "<style scoped>\n",
       "    .dataframe tbody tr th:only-of-type {\n",
       "        vertical-align: middle;\n",
       "    }\n",
       "\n",
       "    .dataframe tbody tr th {\n",
       "        vertical-align: top;\n",
       "    }\n",
       "\n",
       "    .dataframe thead th {\n",
       "        text-align: right;\n",
       "    }\n",
       "</style>\n",
       "<table border=\"1\" class=\"dataframe\">\n",
       "  <thead>\n",
       "    <tr style=\"text-align: right;\">\n",
       "      <th></th>\n",
       "      <th>title</th>\n",
       "      <th>genre</th>\n",
       "      <th>file_path</th>\n",
       "      <th>tempo</th>\n",
       "      <th>C</th>\n",
       "      <th>C#</th>\n",
       "      <th>D</th>\n",
       "      <th>D#</th>\n",
       "      <th>E</th>\n",
       "      <th>F</th>\n",
       "      <th>...</th>\n",
       "      <th>30</th>\n",
       "      <th>31</th>\n",
       "      <th>32</th>\n",
       "      <th>33</th>\n",
       "      <th>34</th>\n",
       "      <th>35</th>\n",
       "      <th>36</th>\n",
       "      <th>37</th>\n",
       "      <th>38</th>\n",
       "      <th>39</th>\n",
       "    </tr>\n",
       "  </thead>\n",
       "  <tbody>\n",
       "    <tr>\n",
       "      <th>0</th>\n",
       "      <td>test</td>\n",
       "      <td>DnB</td>\n",
       "      <td>D:\\MusicSubset\\DnB\\614music+dancingwithspirits...</td>\n",
       "      <td>151.999081</td>\n",
       "      <td>0.382042</td>\n",
       "      <td>0.194798</td>\n",
       "      <td>0.226476</td>\n",
       "      <td>0.330761</td>\n",
       "      <td>0.173156</td>\n",
       "      <td>0.228860</td>\n",
       "      <td>...</td>\n",
       "      <td>4.284073</td>\n",
       "      <td>0.931468</td>\n",
       "      <td>2.270122</td>\n",
       "      <td>0.960531</td>\n",
       "      <td>1.815906</td>\n",
       "      <td>0.510144</td>\n",
       "      <td>1.801909</td>\n",
       "      <td>0.393253</td>\n",
       "      <td>2.190984</td>\n",
       "      <td>2.305583</td>\n",
       "    </tr>\n",
       "    <tr>\n",
       "      <th>1</th>\n",
       "      <td>one04 866609</td>\n",
       "      <td>DnB</td>\n",
       "      <td>D:\\MusicSubset\\DnB\\axaschaller+one04.mp3</td>\n",
       "      <td>184.570312</td>\n",
       "      <td>0.382042</td>\n",
       "      <td>0.194798</td>\n",
       "      <td>0.226476</td>\n",
       "      <td>0.330761</td>\n",
       "      <td>0.173156</td>\n",
       "      <td>0.228860</td>\n",
       "      <td>...</td>\n",
       "      <td>-4.284073</td>\n",
       "      <td>-0.931468</td>\n",
       "      <td>-2.270122</td>\n",
       "      <td>0.960531</td>\n",
       "      <td>-1.815906</td>\n",
       "      <td>0.510144</td>\n",
       "      <td>-1.801909</td>\n",
       "      <td>0.393253</td>\n",
       "      <td>-2.190984</td>\n",
       "      <td>-2.305583</td>\n",
       "    </tr>\n",
       "    <tr>\n",
       "      <th>2</th>\n",
       "      <td>Dead or Alive</td>\n",
       "      <td>DnB</td>\n",
       "      <td>D:\\MusicSubset\\DnB\\beatcomplot+deadoralive.mp3</td>\n",
       "      <td>184.570312</td>\n",
       "      <td>0.230243</td>\n",
       "      <td>0.193634</td>\n",
       "      <td>0.494268</td>\n",
       "      <td>0.153722</td>\n",
       "      <td>0.144727</td>\n",
       "      <td>0.248267</td>\n",
       "      <td>...</td>\n",
       "      <td>-0.490522</td>\n",
       "      <td>3.062842</td>\n",
       "      <td>0.409657</td>\n",
       "      <td>0.540408</td>\n",
       "      <td>-2.085273</td>\n",
       "      <td>1.016240</td>\n",
       "      <td>0.243996</td>\n",
       "      <td>7.757833</td>\n",
       "      <td>1.324253</td>\n",
       "      <td>6.508276</td>\n",
       "    </tr>\n",
       "    <tr>\n",
       "      <th>3</th>\n",
       "      <td>*DnB* Panacea 1Hit Free DL!!!</td>\n",
       "      <td>DnB</td>\n",
       "      <td>D:\\MusicSubset\\DnB\\beatjunkierato+dnbpanacea1h...</td>\n",
       "      <td>184.570312</td>\n",
       "      <td>0.452215</td>\n",
       "      <td>0.389593</td>\n",
       "      <td>0.338878</td>\n",
       "      <td>0.301306</td>\n",
       "      <td>0.368982</td>\n",
       "      <td>0.504765</td>\n",
       "      <td>...</td>\n",
       "      <td>-0.275221</td>\n",
       "      <td>4.044380</td>\n",
       "      <td>-2.140377</td>\n",
       "      <td>-0.280058</td>\n",
       "      <td>-1.601403</td>\n",
       "      <td>0.237743</td>\n",
       "      <td>-1.324471</td>\n",
       "      <td>1.026922</td>\n",
       "      <td>-2.314348</td>\n",
       "      <td>1.883507</td>\n",
       "    </tr>\n",
       "    <tr>\n",
       "      <th>4</th>\n",
       "      <td>*Jungle* Sensi |#1Hit Free DL!!!</td>\n",
       "      <td>DnB</td>\n",
       "      <td>D:\\MusicSubset\\DnB\\beatjunkierato+junglesensi1...</td>\n",
       "      <td>172.265625</td>\n",
       "      <td>0.237042</td>\n",
       "      <td>0.223887</td>\n",
       "      <td>0.383324</td>\n",
       "      <td>0.340668</td>\n",
       "      <td>0.292590</td>\n",
       "      <td>0.475130</td>\n",
       "      <td>...</td>\n",
       "      <td>-0.404820</td>\n",
       "      <td>-3.589658</td>\n",
       "      <td>-2.603315</td>\n",
       "      <td>0.685788</td>\n",
       "      <td>0.638642</td>\n",
       "      <td>2.668826</td>\n",
       "      <td>0.808397</td>\n",
       "      <td>0.155955</td>\n",
       "      <td>-2.799733</td>\n",
       "      <td>-2.432302</td>\n",
       "    </tr>\n",
       "  </tbody>\n",
       "</table>\n",
       "<p>5 rows × 56 columns</p>\n",
       "</div>"
      ],
      "text/plain": [
       "                              title genre  \\\n",
       "0                              test   DnB   \n",
       "1                      one04 866609   DnB   \n",
       "2                     Dead or Alive   DnB   \n",
       "3     *DnB* Panacea 1Hit Free DL!!!   DnB   \n",
       "4  *Jungle* Sensi |#1Hit Free DL!!!   DnB   \n",
       "\n",
       "                                           file_path       tempo         C  \\\n",
       "0  D:\\MusicSubset\\DnB\\614music+dancingwithspirits...  151.999081  0.382042   \n",
       "1           D:\\MusicSubset\\DnB\\axaschaller+one04.mp3  184.570312  0.382042   \n",
       "2     D:\\MusicSubset\\DnB\\beatcomplot+deadoralive.mp3  184.570312  0.230243   \n",
       "3  D:\\MusicSubset\\DnB\\beatjunkierato+dnbpanacea1h...  184.570312  0.452215   \n",
       "4  D:\\MusicSubset\\DnB\\beatjunkierato+junglesensi1...  172.265625  0.237042   \n",
       "\n",
       "         C#         D        D#         E         F  ...        30        31  \\\n",
       "0  0.194798  0.226476  0.330761  0.173156  0.228860  ...  4.284073  0.931468   \n",
       "1  0.194798  0.226476  0.330761  0.173156  0.228860  ... -4.284073 -0.931468   \n",
       "2  0.193634  0.494268  0.153722  0.144727  0.248267  ... -0.490522  3.062842   \n",
       "3  0.389593  0.338878  0.301306  0.368982  0.504765  ... -0.275221  4.044380   \n",
       "4  0.223887  0.383324  0.340668  0.292590  0.475130  ... -0.404820 -3.589658   \n",
       "\n",
       "         32        33        34        35        36        37        38  \\\n",
       "0  2.270122  0.960531  1.815906  0.510144  1.801909  0.393253  2.190984   \n",
       "1 -2.270122  0.960531 -1.815906  0.510144 -1.801909  0.393253 -2.190984   \n",
       "2  0.409657  0.540408 -2.085273  1.016240  0.243996  7.757833  1.324253   \n",
       "3 -2.140377 -0.280058 -1.601403  0.237743 -1.324471  1.026922 -2.314348   \n",
       "4 -2.603315  0.685788  0.638642  2.668826  0.808397  0.155955 -2.799733   \n",
       "\n",
       "         39  \n",
       "0  2.305583  \n",
       "1 -2.305583  \n",
       "2  6.508276  \n",
       "3  1.883507  \n",
       "4 -2.432302  \n",
       "\n",
       "[5 rows x 56 columns]"
      ]
     },
     "execution_count": 12,
     "metadata": {},
     "output_type": "execute_result"
    }
   ],
   "source": [
    "df = pd.read_csv(\"subset_full_df.csv\")\n",
    "df.head()"
   ]
  },
  {
   "cell_type": "code",
   "execution_count": 13,
   "metadata": {},
   "outputs": [
    {
     "data": {
      "text/plain": [
       "0"
      ]
     },
     "execution_count": 13,
     "metadata": {},
     "output_type": "execute_result"
    }
   ],
   "source": [
    "df.isnull().sum().sum()"
   ]
  },
  {
   "cell_type": "code",
   "execution_count": 14,
   "metadata": {},
   "outputs": [
    {
     "data": {
      "text/html": [
       "<div>\n",
       "<style scoped>\n",
       "    .dataframe tbody tr th:only-of-type {\n",
       "        vertical-align: middle;\n",
       "    }\n",
       "\n",
       "    .dataframe tbody tr th {\n",
       "        vertical-align: top;\n",
       "    }\n",
       "\n",
       "    .dataframe thead th {\n",
       "        text-align: right;\n",
       "    }\n",
       "</style>\n",
       "<table border=\"1\" class=\"dataframe\">\n",
       "  <thead>\n",
       "    <tr style=\"text-align: right;\">\n",
       "      <th></th>\n",
       "      <th>C</th>\n",
       "      <th>C#</th>\n",
       "      <th>D</th>\n",
       "      <th>D#</th>\n",
       "      <th>E</th>\n",
       "      <th>F</th>\n",
       "      <th>F#</th>\n",
       "      <th>G</th>\n",
       "      <th>G#</th>\n",
       "      <th>A</th>\n",
       "      <th>...</th>\n",
       "      <th>31</th>\n",
       "      <th>32</th>\n",
       "      <th>33</th>\n",
       "      <th>34</th>\n",
       "      <th>35</th>\n",
       "      <th>36</th>\n",
       "      <th>37</th>\n",
       "      <th>38</th>\n",
       "      <th>39</th>\n",
       "      <th>tempo</th>\n",
       "    </tr>\n",
       "  </thead>\n",
       "  <tbody>\n",
       "    <tr>\n",
       "      <th>0</th>\n",
       "      <td>0.382042</td>\n",
       "      <td>0.194798</td>\n",
       "      <td>0.226476</td>\n",
       "      <td>0.330761</td>\n",
       "      <td>0.173156</td>\n",
       "      <td>0.228860</td>\n",
       "      <td>0.361711</td>\n",
       "      <td>0.582097</td>\n",
       "      <td>0.570469</td>\n",
       "      <td>0.360398</td>\n",
       "      <td>...</td>\n",
       "      <td>0.931468</td>\n",
       "      <td>2.270122</td>\n",
       "      <td>0.960531</td>\n",
       "      <td>1.815906</td>\n",
       "      <td>0.510144</td>\n",
       "      <td>1.801909</td>\n",
       "      <td>0.393253</td>\n",
       "      <td>2.190984</td>\n",
       "      <td>2.305583</td>\n",
       "      <td>151.999081</td>\n",
       "    </tr>\n",
       "    <tr>\n",
       "      <th>1</th>\n",
       "      <td>0.382042</td>\n",
       "      <td>0.194798</td>\n",
       "      <td>0.226476</td>\n",
       "      <td>0.330761</td>\n",
       "      <td>0.173156</td>\n",
       "      <td>0.228860</td>\n",
       "      <td>0.361711</td>\n",
       "      <td>0.582097</td>\n",
       "      <td>0.570469</td>\n",
       "      <td>0.360398</td>\n",
       "      <td>...</td>\n",
       "      <td>-0.931468</td>\n",
       "      <td>-2.270122</td>\n",
       "      <td>0.960531</td>\n",
       "      <td>-1.815906</td>\n",
       "      <td>0.510144</td>\n",
       "      <td>-1.801909</td>\n",
       "      <td>0.393253</td>\n",
       "      <td>-2.190984</td>\n",
       "      <td>-2.305583</td>\n",
       "      <td>184.570312</td>\n",
       "    </tr>\n",
       "    <tr>\n",
       "      <th>2</th>\n",
       "      <td>0.230243</td>\n",
       "      <td>0.193634</td>\n",
       "      <td>0.494268</td>\n",
       "      <td>0.153722</td>\n",
       "      <td>0.144727</td>\n",
       "      <td>0.248267</td>\n",
       "      <td>0.267914</td>\n",
       "      <td>0.440658</td>\n",
       "      <td>0.565153</td>\n",
       "      <td>0.593801</td>\n",
       "      <td>...</td>\n",
       "      <td>3.062842</td>\n",
       "      <td>0.409657</td>\n",
       "      <td>0.540408</td>\n",
       "      <td>-2.085273</td>\n",
       "      <td>1.016240</td>\n",
       "      <td>0.243996</td>\n",
       "      <td>7.757833</td>\n",
       "      <td>1.324253</td>\n",
       "      <td>6.508276</td>\n",
       "      <td>184.570312</td>\n",
       "    </tr>\n",
       "    <tr>\n",
       "      <th>3</th>\n",
       "      <td>0.452215</td>\n",
       "      <td>0.389593</td>\n",
       "      <td>0.338878</td>\n",
       "      <td>0.301306</td>\n",
       "      <td>0.368982</td>\n",
       "      <td>0.504765</td>\n",
       "      <td>0.473052</td>\n",
       "      <td>0.560896</td>\n",
       "      <td>0.557190</td>\n",
       "      <td>0.632922</td>\n",
       "      <td>...</td>\n",
       "      <td>4.044380</td>\n",
       "      <td>-2.140377</td>\n",
       "      <td>-0.280058</td>\n",
       "      <td>-1.601403</td>\n",
       "      <td>0.237743</td>\n",
       "      <td>-1.324471</td>\n",
       "      <td>1.026922</td>\n",
       "      <td>-2.314348</td>\n",
       "      <td>1.883507</td>\n",
       "      <td>184.570312</td>\n",
       "    </tr>\n",
       "    <tr>\n",
       "      <th>4</th>\n",
       "      <td>0.237042</td>\n",
       "      <td>0.223887</td>\n",
       "      <td>0.383324</td>\n",
       "      <td>0.340668</td>\n",
       "      <td>0.292590</td>\n",
       "      <td>0.475130</td>\n",
       "      <td>0.290789</td>\n",
       "      <td>0.444852</td>\n",
       "      <td>0.225251</td>\n",
       "      <td>0.250665</td>\n",
       "      <td>...</td>\n",
       "      <td>-3.589658</td>\n",
       "      <td>-2.603315</td>\n",
       "      <td>0.685788</td>\n",
       "      <td>0.638642</td>\n",
       "      <td>2.668826</td>\n",
       "      <td>0.808397</td>\n",
       "      <td>0.155955</td>\n",
       "      <td>-2.799733</td>\n",
       "      <td>-2.432302</td>\n",
       "      <td>172.265625</td>\n",
       "    </tr>\n",
       "  </tbody>\n",
       "</table>\n",
       "<p>5 rows × 53 columns</p>\n",
       "</div>"
      ],
      "text/plain": [
       "          C        C#         D        D#         E         F        F#  \\\n",
       "0  0.382042  0.194798  0.226476  0.330761  0.173156  0.228860  0.361711   \n",
       "1  0.382042  0.194798  0.226476  0.330761  0.173156  0.228860  0.361711   \n",
       "2  0.230243  0.193634  0.494268  0.153722  0.144727  0.248267  0.267914   \n",
       "3  0.452215  0.389593  0.338878  0.301306  0.368982  0.504765  0.473052   \n",
       "4  0.237042  0.223887  0.383324  0.340668  0.292590  0.475130  0.290789   \n",
       "\n",
       "          G        G#         A  ...        31        32        33        34  \\\n",
       "0  0.582097  0.570469  0.360398  ...  0.931468  2.270122  0.960531  1.815906   \n",
       "1  0.582097  0.570469  0.360398  ... -0.931468 -2.270122  0.960531 -1.815906   \n",
       "2  0.440658  0.565153  0.593801  ...  3.062842  0.409657  0.540408 -2.085273   \n",
       "3  0.560896  0.557190  0.632922  ...  4.044380 -2.140377 -0.280058 -1.601403   \n",
       "4  0.444852  0.225251  0.250665  ... -3.589658 -2.603315  0.685788  0.638642   \n",
       "\n",
       "         35        36        37        38        39       tempo  \n",
       "0  0.510144  1.801909  0.393253  2.190984  2.305583  151.999081  \n",
       "1  0.510144 -1.801909  0.393253 -2.190984 -2.305583  184.570312  \n",
       "2  1.016240  0.243996  7.757833  1.324253  6.508276  184.570312  \n",
       "3  0.237743 -1.324471  1.026922 -2.314348  1.883507  184.570312  \n",
       "4  2.668826  0.808397  0.155955 -2.799733 -2.432302  172.265625  \n",
       "\n",
       "[5 rows x 53 columns]"
      ]
     },
     "execution_count": 14,
     "metadata": {},
     "output_type": "execute_result"
    }
   ],
   "source": [
    "features = pd.concat((chroma_df, mfcc_df), axis=1)\n",
    "features['tempo'] = tempo\n",
    "features.head()"
   ]
  },
  {
   "cell_type": "code",
   "execution_count": 15,
   "metadata": {},
   "outputs": [
    {
     "data": {
      "text/plain": [
       "(240, 53)"
      ]
     },
     "execution_count": 15,
     "metadata": {},
     "output_type": "execute_result"
    }
   ],
   "source": [
    "features.shape"
   ]
  },
  {
   "cell_type": "code",
   "execution_count": 16,
   "metadata": {},
   "outputs": [],
   "source": [
    "cat = {\"DnB\": 0, \"House\": 1, \"Dubstep\": 2, \"Techno\": 3, \"Indie Rock\": 4, \"Garage Rock\": 5}"
   ]
  },
  {
   "cell_type": "code",
   "execution_count": 17,
   "metadata": {
    "scrolled": true
   },
   "outputs": [],
   "source": [
    "X = features\n",
    "y = df['genre'].map(cat)\n",
    "\n",
    "# lb = LabelEncoder()\n",
    "y = tf.keras.utils.to_categorical(y)"
   ]
  },
  {
   "cell_type": "code",
   "execution_count": 21,
   "metadata": {},
   "outputs": [],
   "source": [
    "X_train, X_test, y_train, y_test = train_test_split(X, y, train_size=0.75, random_state=42, stratify=y)"
   ]
  },
  {
   "cell_type": "code",
   "execution_count": 22,
   "metadata": {},
   "outputs": [],
   "source": [
    "ss = StandardScaler()\n",
    "\n",
    "Xtrain_ss = ss.fit_transform(X_train)\n",
    "Xtest_ss = ss.transform(X_test)"
   ]
  },
  {
   "cell_type": "code",
   "execution_count": 23,
   "metadata": {
    "scrolled": true
   },
   "outputs": [
    {
     "name": "stdout",
     "output_type": "stream",
     "text": [
      "(180, 53)\n",
      "(60, 53)\n",
      "(180, 6)\n",
      "(60, 6)\n"
     ]
    }
   ],
   "source": [
    "print(Xtrain_ss.shape)\n",
    "print(Xtest_ss.shape)\n",
    "print(y_train.shape)\n",
    "print(y_test.shape)"
   ]
  },
  {
   "cell_type": "code",
   "execution_count": 334,
   "metadata": {},
   "outputs": [
    {
     "name": "stdout",
     "output_type": "stream",
     "text": [
      "Model: \"sequential_23\"\n",
      "_________________________________________________________________\n",
      "Layer (type)                 Output Shape              Param #   \n",
      "=================================================================\n",
      "dense_183 (Dense)            (None, 128)               6912      \n",
      "_________________________________________________________________\n",
      "dropout_147 (Dropout)        (None, 128)               0         \n",
      "_________________________________________________________________\n",
      "dense_184 (Dense)            (None, 128)               16512     \n",
      "_________________________________________________________________\n",
      "dropout_148 (Dropout)        (None, 128)               0         \n",
      "_________________________________________________________________\n",
      "dense_185 (Dense)            (None, 128)               16512     \n",
      "_________________________________________________________________\n",
      "dropout_149 (Dropout)        (None, 128)               0         \n",
      "_________________________________________________________________\n",
      "dense_186 (Dense)            (None, 128)               16512     \n",
      "_________________________________________________________________\n",
      "dropout_150 (Dropout)        (None, 128)               0         \n",
      "_________________________________________________________________\n",
      "dense_187 (Dense)            (None, 128)               16512     \n",
      "_________________________________________________________________\n",
      "dropout_151 (Dropout)        (None, 128)               0         \n",
      "_________________________________________________________________\n",
      "dense_188 (Dense)            (None, 128)               16512     \n",
      "_________________________________________________________________\n",
      "dropout_152 (Dropout)        (None, 128)               0         \n",
      "_________________________________________________________________\n",
      "dense_189 (Dense)            (None, 64)                8256      \n",
      "_________________________________________________________________\n",
      "dropout_153 (Dropout)        (None, 64)                0         \n",
      "_________________________________________________________________\n",
      "dense_190 (Dense)            (None, 64)                4160      \n",
      "_________________________________________________________________\n",
      "dropout_154 (Dropout)        (None, 64)                0         \n",
      "_________________________________________________________________\n",
      "dense_191 (Dense)            (None, 6)                 390       \n",
      "=================================================================\n",
      "Total params: 102,278\n",
      "Trainable params: 102,278\n",
      "Non-trainable params: 0\n",
      "_________________________________________________________________\n"
     ]
    }
   ],
   "source": [
    "# model = Sequential()\n",
    "\n",
    "# model.add(Dense(128, input_shape=(53,),\n",
    "#                        activation='relu'))\n",
    "# model.add(Dropout(0.5))\n",
    "\n",
    "\n",
    "# model.add(Dense(128, \n",
    "#                        activation='relu'))\n",
    "# model.add(Dropout(0.5))\n",
    "\n",
    "# model.add(Dense(128, \n",
    "#                        activation='relu'))\n",
    "# model.add(Dropout(0.5))\n",
    "\n",
    "\n",
    "# model.add(Dense(128, \n",
    "#                        activation='relu'))\n",
    "# model.add(Dropout(0.2))\n",
    "\n",
    "\n",
    "# model.add(Dense(128, \n",
    "#                        activation='relu'))\n",
    "# model.add(Dropout(0.2))\n",
    "\n",
    "\n",
    "# model.add(Dense(128, \n",
    "#                        activation='relu'))\n",
    "# model.add(Dropout(0.2))\n",
    "\n",
    "\n",
    "# model.add(Dense(64, \n",
    "#                        activation='relu'))\n",
    "# model.add(Dropout(0.2))\n",
    "\n",
    "\n",
    "\n",
    "# model.add(Dense(64, \n",
    "#                        activation='relu'))\n",
    "# model.add(Dropout(0.2))\n",
    "\n",
    "\n",
    "# model.add(Dense(6, \n",
    "#                     activation='softmax'))\n",
    "\n",
    "# model.summary()\n",
    "\n",
    "# model.compile(\n",
    "#     loss='categorical_crossentropy', \n",
    "#     metrics=['accuracy'], \n",
    "#     optimizer='rmsprop')"
   ]
  },
  {
   "cell_type": "code",
   "execution_count": 33,
   "metadata": {},
   "outputs": [],
   "source": [
    "# hist_1 = model.fit(Xtrain_ss,\n",
    "#                    y_train,\n",
    "#                    epochs=60,\n",
    "#                    batch_size=16,\n",
    "#                    validation_split=0.1,\n",
    "#                    verbose=0)"
   ]
  },
  {
   "cell_type": "code",
   "execution_count": 238,
   "metadata": {
    "scrolled": true
   },
   "outputs": [
    {
     "data": {
      "image/png": "[encoded data removed]",
      "text/plain": [
       "<Figure size 576x288 with 1 Axes>"
      ]
     },
     "metadata": {},
     "output_type": "display_data"
    }
   ],
   "source": [
    "sns.set_palette('tab10', n_colors=2)\n",
    "plt.figure(figsize=(8,4))\n",
    "\n",
    "plt.plot(hist_1.history['loss'], label='Train')\n",
    "plt.plot(hist_1.history['val_loss'], label='Val')\n",
    "plt.xlabel(\"Epochs\")\n",
    "plt.ylabel(\"Loss\")\n",
    "plt.legend();"
   ]
  },
  {
   "cell_type": "code",
   "execution_count": 237,
   "metadata": {},
   "outputs": [
    {
     "data": {
      "image/png": "[encoded data removed]",
      "text/plain": [
       "<Figure size 576x288 with 1 Axes>"
      ]
     },
     "metadata": {},
     "output_type": "display_data"
    }
   ],
   "source": [
    "sns.set_palette('tab10', n_colors=2)\n",
    "plt.figure(figsize=(8,4))\n",
    "\n",
    "plt.plot(hist_1.history['accuracy'], label='Train', )\n",
    "plt.plot(hist_1.history['val_accuracy'], label='Val')\n",
    "plt.legend();"
   ]
  },
  {
   "cell_type": "code",
   "execution_count": 36,
   "metadata": {},
   "outputs": [
    {
     "data": {
      "text/plain": [
       "[1.2018617590268452, 0.5208333]"
      ]
     },
     "execution_count": 36,
     "metadata": {},
     "output_type": "execute_result"
    }
   ],
   "source": [
    "model.evaluate(Xtest_ss, y_test, verbose=0)"
   ]
  },
  {
   "cell_type": "code",
   "execution_count": 49,
   "metadata": {},
   "outputs": [],
   "source": [
    "predictions = model.predict(Xtest_ss)"
   ]
  },
  {
   "cell_type": "code",
   "execution_count": 51,
   "metadata": {},
   "outputs": [],
   "source": [
    "model.save(\"D1_subset_std_feats.h5\")\n",
    "model.save_weights(\"D1_subset_weights.h5\")"
   ]
  },
  {
   "cell_type": "code",
   "execution_count": 24,
   "metadata": {},
   "outputs": [
    {
     "data": {
      "text/plain": [
       "(180, 53)"
      ]
     },
     "execution_count": 24,
     "metadata": {},
     "output_type": "execute_result"
    }
   ],
   "source": [
    "Xtrain_ss.shape"
   ]
  },
  {
   "cell_type": "markdown",
   "metadata": {},
   "source": [
    "This model performed slightly better than MFCCs, and was significantly less overfit.  I played around with neurons and dropout layers a bit while add a few more than I had in the very first model since there are more features to learn.  It helped with accuracy a bit and definitely helped with overfitting.  Since I never evaluated the original model I don't know if that would have actually performed well on unseen data."
   ]
  }
 ],
 "metadata": {
  "kernelspec": {
   "display_name": "Python 3",
   "language": "python",
   "name": "python3"
  },
  "language_info": {
   "codemirror_mode": {
    "name": "ipython",
    "version": 3
   },
   "file_extension": ".py",
   "mimetype": "text/x-python",
   "name": "python",
   "nbconvert_exporter": "python",
   "pygments_lexer": "ipython3",
   "version": "3.7.4"
  },
  "pycharm": {
   "stem_cell": {
    "cell_type": "raw",
    "source": [],
    "metadata": {
     "collapsed": false
    }
   }
  }
 },
 "nbformat": 4,
 "nbformat_minor": 2
}