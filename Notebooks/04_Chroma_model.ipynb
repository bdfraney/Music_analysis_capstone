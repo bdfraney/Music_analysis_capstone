{
 "cells": [
  {
   "cell_type": "markdown",
   "metadata": {},
   "source": [
    "### Modeling on a small subset of data\n",
    "\n",
    "This is the second attempt to model on the small subset.  In total I had 1400 songs to extract features from.  Parsing audio files and computing the features is intensive (it took about 3 hrs for the simply MFCCs on 17% of the songs) so I wanted to make sure that I don't waste too much time getting features I don't need.\n",
    "\n",
    "This time I used the enhance chroma for the features."
   ]
  },
  {
   "cell_type": "code",
   "execution_count": 5,
   "metadata": {},
   "outputs": [],
   "source": [
    "import tensorflow as tf\n",
    "from tensorflow.keras.layers import Dense, Dropout\n",
    "from tensorflow.keras import Sequential\n",
    "\n",
    "from sklearn.model_selection import train_test_split\n",
    "from sklearn.preprocessing import StandardScaler, LabelEncoder\n",
    "\n",
    "import pandas as pd\n",
    "import numpy as np\n",
    "import matplotlib.pyplot as plt"
   ]
  },
  {
   "cell_type": "code",
   "execution_count": 59,
   "metadata": {},
   "outputs": [],
   "source": [
    "# enh_chroma = np.empty((12 ,))\n",
    "# for files in glob.glob(\"D:\\MusicSubset\\*\\*.mp3\"):\n",
    "#     enh_chroma = np.vstack((enh_chroma, enhanced_chroma_parser(files)))"
   ]
  },
  {
   "cell_type": "code",
   "execution_count": null,
   "metadata": {},
   "outputs": [],
   "source": [
    "# np.savetxt('subset_enh_chroma.npy', enh_chroma, delimiter=',')"
   ]
  },
  {
   "cell_type": "code",
   "execution_count": 19,
   "metadata": {},
   "outputs": [],
   "source": [
    "chroma = np.loadtxt('subset_enh_chroma.npy', delimiter= ',')"
   ]
  },
  {
   "cell_type": "code",
   "execution_count": 20,
   "metadata": {},
   "outputs": [
    {
     "data": {
      "text/plain": [
       "(240, 12)"
      ]
     },
     "execution_count": 20,
     "metadata": {},
     "output_type": "execute_result"
    }
   ],
   "source": [
    "chroma.shape"
   ]
  },
  {
   "cell_type": "code",
   "execution_count": 21,
   "metadata": {},
   "outputs": [],
   "source": [
    "track_df = pd.read_csv('subset_df.csv')"
   ]
  },
  {
   "cell_type": "code",
   "execution_count": 78,
   "metadata": {},
   "outputs": [],
   "source": [
    "X = chroma\n",
    "y = track_df['genre']\n",
    "\n",
    "lb = LabelEncoder()\n",
    "\n",
    "y = tf.keras.utils.to_categorical(lb.fit_transform(y))"
   ]
  },
  {
   "cell_type": "code",
   "execution_count": 79,
   "metadata": {},
   "outputs": [],
   "source": [
    "Xtrain, Xtest, ytrain, ytest = train_test_split(X, y, random_state=42, stratify=y )"
   ]
  },
  {
   "cell_type": "code",
   "execution_count": 80,
   "metadata": {},
   "outputs": [],
   "source": [
    "ss = StandardScaler()\n",
    "\n",
    "Xtrain_ss = ss.fit_transform(Xtrain)  # As with most data, it's important to scale audio features.  \n",
    "Xtest_ss = ss.transform(Xtest)        # Features with wildly differing distributions can be problematic."
   ]
  },
  {
   "cell_type": "code",
   "execution_count": 81,
   "metadata": {
    "scrolled": false
   },
   "outputs": [
    {
     "name": "stdout",
     "output_type": "stream",
     "text": [
      "(180, 12)\n",
      "(60, 12)\n",
      "(180, 6)\n",
      "(60, 6)\n"
     ]
    }
   ],
   "source": [
    "print(Xtrain.shape)\n",
    "print(Xtest.shape)\n",
    "print(ytrain.shape)\n",
    "print(ytest.shape)"
   ]
  },
  {
   "cell_type": "code",
   "execution_count": 4,
   "metadata": {},
   "outputs": [
    {
     "name": "stdout",
     "output_type": "stream",
     "text": [
      "Model: \"sequential_1\"\n",
      "_________________________________________________________________\n",
      "Layer (type)                 Output Shape              Param #   \n",
      "=================================================================\n",
      "dense_4 (Dense)              (None, 256)               3328      \n",
      "_________________________________________________________________\n",
      "dropout_3 (Dropout)          (None, 256)               0         \n",
      "_________________________________________________________________\n",
      "dense_5 (Dense)              (None, 256)               65792     \n",
      "_________________________________________________________________\n",
      "dropout_4 (Dropout)          (None, 256)               0         \n",
      "_________________________________________________________________\n",
      "dense_6 (Dense)              (None, 128)               32896     \n",
      "_________________________________________________________________\n",
      "dropout_5 (Dropout)          (None, 128)               0         \n",
      "_________________________________________________________________\n",
      "dense_7 (Dense)              (None, 6)                 774       \n",
      "=================================================================\n",
      "Total params: 102,790\n",
      "Trainable params: 102,790\n",
      "Non-trainable params: 0\n",
      "_________________________________________________________________\n"
     ]
    }
   ],
   "source": [
    "model = Sequential()\n",
    "\n",
    "model.add(Dense(256, input_shape=(12,), \n",
    "                       activation='relu'))\n",
    "model.add(Dropout(0.5))\n",
    "\n",
    "\n",
    "model.add(Dense(256, \n",
    "                       activation='relu'))\n",
    "model.add(Dropout(0.5))\n",
    "\n",
    "\n",
    "model.add(Dense(128, \n",
    "                       activation='relu'))\n",
    "model.add(Dropout(0.5))\n",
    "\n",
    "\n",
    "model.add(Dense(6, activation='softmax'))\n",
    "\n",
    "model.summary()\n",
    "\n",
    "model.compile(\n",
    "    loss='categorical_crossentropy', \n",
    "    metrics=['accuracy'], \n",
    "    optimizer='adam')"
   ]
  },
  {
   "cell_type": "code",
   "execution_count": 59,
   "metadata": {
    "scrolled": true
   },
   "outputs": [
    {
     "name": "stdout",
     "output_type": "stream",
     "text": [
      "Train on 180 samples, validate on 60 samples\n",
      "Epoch 1/20\n",
      "180/180 - 0s - loss: 1.8997 - accuracy: 0.1333 - val_loss: 1.7319 - val_accuracy: 0.2667\n",
      "Epoch 2/20\n",
      "180/180 - 0s - loss: 1.7299 - accuracy: 0.2444 - val_loss: 1.6593 - val_accuracy: 0.3167\n",
      "Epoch 3/20\n",
      "180/180 - 0s - loss: 1.6763 - accuracy: 0.2556 - val_loss: 1.5940 - val_accuracy: 0.3500\n",
      "Epoch 4/20\n",
      "180/180 - 0s - loss: 1.6077 - accuracy: 0.3389 - val_loss: 1.5346 - val_accuracy: 0.3333\n",
      "Epoch 5/20\n",
      "180/180 - 0s - loss: 1.5714 - accuracy: 0.3167 - val_loss: 1.4880 - val_accuracy: 0.3667\n",
      "Epoch 6/20\n",
      "180/180 - 0s - loss: 1.5499 - accuracy: 0.3667 - val_loss: 1.4705 - val_accuracy: 0.3500\n",
      "Epoch 7/20\n",
      "180/180 - 0s - loss: 1.5004 - accuracy: 0.3444 - val_loss: 1.4469 - val_accuracy: 0.3667\n",
      "Epoch 8/20\n",
      "180/180 - 0s - loss: 1.4724 - accuracy: 0.3778 - val_loss: 1.4327 - val_accuracy: 0.3667\n",
      "Epoch 9/20\n",
      "180/180 - 0s - loss: 1.3759 - accuracy: 0.4167 - val_loss: 1.4245 - val_accuracy: 0.3833\n",
      "Epoch 10/20\n",
      "180/180 - 0s - loss: 1.4247 - accuracy: 0.3778 - val_loss: 1.4331 - val_accuracy: 0.3500\n",
      "Epoch 11/20\n",
      "180/180 - 0s - loss: 1.3647 - accuracy: 0.3944 - val_loss: 1.4373 - val_accuracy: 0.3667\n",
      "Epoch 12/20\n",
      "180/180 - 0s - loss: 1.3413 - accuracy: 0.4500 - val_loss: 1.4395 - val_accuracy: 0.3667\n",
      "Epoch 13/20\n",
      "180/180 - 0s - loss: 1.3500 - accuracy: 0.4111 - val_loss: 1.4589 - val_accuracy: 0.3500\n",
      "Epoch 14/20\n",
      "180/180 - 0s - loss: 1.2941 - accuracy: 0.4889 - val_loss: 1.4620 - val_accuracy: 0.3833\n",
      "Epoch 15/20\n",
      "180/180 - 0s - loss: 1.3037 - accuracy: 0.4611 - val_loss: 1.4550 - val_accuracy: 0.3833\n",
      "Epoch 16/20\n",
      "180/180 - 0s - loss: 1.3453 - accuracy: 0.4278 - val_loss: 1.4552 - val_accuracy: 0.3833\n",
      "Epoch 17/20\n",
      "180/180 - 0s - loss: 1.3176 - accuracy: 0.4667 - val_loss: 1.4503 - val_accuracy: 0.3667\n",
      "Epoch 18/20\n",
      "180/180 - 0s - loss: 1.3573 - accuracy: 0.3778 - val_loss: 1.4817 - val_accuracy: 0.3333\n",
      "Epoch 19/20\n",
      "180/180 - 0s - loss: 1.3012 - accuracy: 0.4667 - val_loss: 1.4762 - val_accuracy: 0.3500\n",
      "Epoch 20/20\n",
      "180/180 - 0s - loss: 1.3042 - accuracy: 0.4444 - val_loss: 1.4691 - val_accuracy: 0.3667\n"
     ]
    }
   ],
   "source": [
    "subset_history = model.fit(\n",
    "    x=Xtrain_ss,\n",
    "    y=ytrain,\n",
    "    batch_size=18,\n",
    "    epochs=20,\n",
    "    validation_data=(Xtest_ss, ytest),\n",
    "    verbose=2\n",
    ")"
   ]
  },
  {
   "cell_type": "code",
   "execution_count": 13,
   "metadata": {},
   "outputs": [
    {
     "data": {
      "text/plain": [
       "dict_keys(['loss', 'accuracy', 'val_loss', 'val_accuracy'])"
      ]
     },
     "execution_count": 13,
     "metadata": {},
     "output_type": "execute_result"
    }
   ],
   "source": [
    "subset_history.history.keys()"
   ]
  },
  {
   "cell_type": "code",
   "execution_count": 60,
   "metadata": {},
   "outputs": [
    {
     "data": {
      "image/png": "[encoded data removed]",
      "text/plain": [
       "<Figure size 432x288 with 1 Axes>"
      ]
     },
     "metadata": {
      "needs_background": "light"
     },
     "output_type": "display_data"
    }
   ],
   "source": [
    "plt.plot(subset_history.history['loss'], label='Train')\n",
    "plt.plot(subset_history.history['val_loss'], label='Test')\n",
    "plt.legend();"
   ]
  },
  {
   "cell_type": "code",
   "execution_count": 6,
   "metadata": {},
   "outputs": [
    {
     "ename": "NameError",
     "evalue": "name 'subset_history' is not defined",
     "output_type": "error",
     "traceback": [
      "\u001b[1;31m---------------------------------------------------------------------------\u001b[0m",
      "\u001b[1;31mNameError\u001b[0m                                 Traceback (most recent call last)",
      "\u001b[1;32m<ipython-input-6-3bcc3acd465a>\u001b[0m in \u001b[0;36m<module>\u001b[1;34m\u001b[0m\n\u001b[1;32m----> 1\u001b[1;33m \u001b[0mplt\u001b[0m\u001b[1;33m.\u001b[0m\u001b[0mplot\u001b[0m\u001b[1;33m(\u001b[0m\u001b[0msubset_history\u001b[0m\u001b[1;33m.\u001b[0m\u001b[0mhistory\u001b[0m\u001b[1;33m[\u001b[0m\u001b[1;34m'accuracy'\u001b[0m\u001b[1;33m]\u001b[0m\u001b[1;33m,\u001b[0m \u001b[0mlabel\u001b[0m\u001b[1;33m=\u001b[0m\u001b[1;34m'Train'\u001b[0m\u001b[1;33m)\u001b[0m\u001b[1;33m\u001b[0m\u001b[1;33m\u001b[0m\u001b[0m\n\u001b[0m\u001b[0;32m      2\u001b[0m \u001b[0mplt\u001b[0m\u001b[1;33m.\u001b[0m\u001b[0mplot\u001b[0m\u001b[1;33m(\u001b[0m\u001b[0msubset_history\u001b[0m\u001b[1;33m.\u001b[0m\u001b[0mhistory\u001b[0m\u001b[1;33m[\u001b[0m\u001b[1;34m'val_accuracy'\u001b[0m\u001b[1;33m]\u001b[0m\u001b[1;33m,\u001b[0m \u001b[0mlabel\u001b[0m\u001b[1;33m=\u001b[0m\u001b[1;34m'Test'\u001b[0m\u001b[1;33m)\u001b[0m\u001b[1;33m\u001b[0m\u001b[1;33m\u001b[0m\u001b[0m\n\u001b[0;32m      3\u001b[0m \u001b[0mplt\u001b[0m\u001b[1;33m.\u001b[0m\u001b[0mtitle\u001b[0m\u001b[1;33m(\u001b[0m\u001b[1;34m\"Accuracy\"\u001b[0m\u001b[1;33m)\u001b[0m\u001b[1;33m\u001b[0m\u001b[1;33m\u001b[0m\u001b[0m\n\u001b[0;32m      4\u001b[0m \u001b[0mplt\u001b[0m\u001b[1;33m.\u001b[0m\u001b[0mlegend\u001b[0m\u001b[1;33m(\u001b[0m\u001b[1;33m)\u001b[0m\u001b[1;33m;\u001b[0m\u001b[1;33m\u001b[0m\u001b[1;33m\u001b[0m\u001b[0m\n",
      "\u001b[1;31mNameError\u001b[0m: name 'subset_history' is not defined"
     ]
    }
   ],
   "source": [
    "plt.plot(subset_history.history['accuracy'], label='Train')\n",
    "plt.plot(subset_history.history['val_accuracy'], label='Test')\n",
    "plt.title(\"Accuracy\")\n",
    "plt.legend();"
   ]
  },
  {
   "cell_type": "markdown",
   "metadata": {},
   "source": [
    "The enhanced chroma alone barely got to 40%.  It's still better than baseline so with the mfcc's I hope it will greatly improve the score."
   ]
  }
 ],
 "metadata": {
  "kernelspec": {
   "display_name": "Python 3",
   "language": "python",
   "name": "python3"
  },
  "language_info": {
   "codemirror_mode": {
    "name": "ipython",
    "version": 3
   },
   "file_extension": ".py",
   "mimetype": "text/x-python",
   "name": "python",
   "nbconvert_exporter": "python",
   "pygments_lexer": "ipython3",
   "version": "3.7.4"
  },
  "pycharm": {
   "stem_cell": {
    "cell_type": "raw",
    "source": [],
    "metadata": {
     "collapsed": false
    }
   }
  }
 },
 "nbformat": 4,
 "nbformat_minor": 2
}