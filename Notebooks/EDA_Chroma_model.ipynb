{
 "cells": [
  {
   "cell_type": "markdown",
   "metadata": {},
   "source": [
    "### Modeling on a small subset of data"
   ]
  },
  {
   "cell_type": "code",
   "execution_count": 2,
   "metadata": {},
   "outputs": [],
   "source": [
    "import tensorflow as tf\n",
    "from tensorflow.keras.layers import Dense, Dropout, Conv2D, Conv1D, Flatten, MaxPool1D\n",
    "from tensorflow.keras import Sequential\n",
    "\n",
    "from sklearn.model_selection import train_test_split\n",
    "from sklearn.preprocessing import StandardScaler, LabelEncoder\n",
    "\n",
    "import pandas as pd\n",
    "import numpy as np\n",
    "import matplotlib.pyplot as plt\n",
    "import scipy\n",
    "\n",
    "import librosa\n",
    "from librosa import display, beat\n",
    "from librosa.feature import chroma_stft, melspectrogram\n",
    "import glob "
   ]
  },
  {
   "cell_type": "code",
   "execution_count": 30,
   "metadata": {},
   "outputs": [],
   "source": [
    "def mfccs_parser(file):\n",
    "\n",
    "    try:\n",
    "        \n",
    "          # here kaiser_fast is a technique used for faster extraction (though it does negatively affect quality)\n",
    "        X, sample_rate = librosa.load(file, sr=42000, res_type='kaiser_fast') \n",
    "        \n",
    "          # we extract mfcc feature from data, Use the mean so that scale isn't an issue.\n",
    "        mfccs = np.mean(librosa.feature.mfcc(y=X, sr=sample_rate, n_mfcc=40).T,axis=0) \n",
    "        \n",
    "    except Exception as e:\n",
    "        print(\"Error encountered while parsing file: \", file)\n",
    "        return None, None\n",
    "\n",
    "#     feature = mfccs\n",
    "#     label = row\n",
    "\n",
    "    return mfccs"
   ]
  },
  {
   "cell_type": "code",
   "execution_count": 31,
   "metadata": {},
   "outputs": [],
   "source": [
    "def enhanced_chroma_parser(file):\n",
    "\n",
    "    try:\n",
    "    \n",
    "    # Load in the song using kaiser_fast to speed up loading\n",
    "        y, sr = librosa.load(file, sr=42000, res_type='kaiser_fast')\n",
    "        \n",
    "        chroma_os = librosa.feature.chroma_cqt(y=y, sr=sr, bins_per_octave=12*3)\n",
    "        \n",
    "        y_harm = librosa.effects.harmonic(y=y, margin=8)\n",
    "        chroma_os_harm = librosa.feature.chroma_cqt(y=y_harm, sr=sr, bins_per_octave=12*3)\n",
    "        \n",
    "        chroma_filter = np.minimum(chroma_os_harm,\n",
    "                           librosa.decompose.nn_filter(chroma_os_harm,\n",
    "                                                       aggregate=np.median,\n",
    "                                                       metric='cosine'))\n",
    "        \n",
    "        chroma_smooth = np.mean(scipy.ndimage.median_filter(chroma_filter, size=(1, 9)).T, axis=0)\n",
    "    \n",
    "\n",
    "        \n",
    "    except Exception as e:\n",
    "        print(\"Error encountered while parsing file: \", file)\n",
    "        return None, None\n",
    "\n",
    "#     feature = mfccs\n",
    "#     label = row\n",
    "\n",
    "    return chroma_smooth"
   ]
  },
  {
   "cell_type": "code",
   "execution_count": 32,
   "metadata": {},
   "outputs": [],
   "source": [
    "def static_tempo(file, bpm_estimate=120):\n",
    "    \n",
    "    y, sr = librosa.load(file, sr=42000, res_type=\"kaiser_fast\")\n",
    "    \n",
    "    onset_env = librosa.onset.onset_strength(y, sr=sr)\n",
    "    \n",
    "    tempo = librosa.beat.tempo(onset_envelope=onset_env, sr=sr, start_bpm=bpm_estimate)\n",
    "    \n",
    "    return tempo     "
   ]
  },
  {
   "cell_type": "code",
   "execution_count": 59,
   "metadata": {},
   "outputs": [],
   "source": [
    "# enh_chroma = np.empty((12 ,))\n",
    "# for files in glob.glob(\"D:\\MusicSubset\\*\\*.mp3\"):\n",
    "#     enh_chroma = np.vstack((enh_chroma, enhanced_chroma_parser(files)))"
   ]
  },
  {
   "cell_type": "code",
   "execution_count": null,
   "metadata": {},
   "outputs": [],
   "source": [
    "# np.savetxt('subset_enh_chroma.npy', enh_chroma, delimiter=',')"
   ]
  },
  {
   "cell_type": "code",
   "execution_count": 19,
   "metadata": {},
   "outputs": [],
   "source": [
    "chroma = np.loadtxt('subset_enh_chroma.npy', delimiter= ',')"
   ]
  },
  {
   "cell_type": "code",
   "execution_count": 20,
   "metadata": {},
   "outputs": [
    {
     "data": {
      "text/plain": [
       "(240, 12)"
      ]
     },
     "execution_count": 20,
     "metadata": {},
     "output_type": "execute_result"
    }
   ],
   "source": [
    "chroma.shape"
   ]
  },
  {
   "cell_type": "code",
   "execution_count": 21,
   "metadata": {},
   "outputs": [],
   "source": [
    "track_df = pd.read_csv('subset_df.csv')"
   ]
  },
  {
   "cell_type": "code",
   "execution_count": 78,
   "metadata": {},
   "outputs": [],
   "source": [
    "X = chroma\n",
    "y = track_df['genre']\n",
    "\n",
    "lb = LabelEncoder()\n",
    "\n",
    "y = tf.keras.utils.to_categorical(lb.fit_transform(y))"
   ]
  },
  {
   "cell_type": "code",
   "execution_count": 79,
   "metadata": {},
   "outputs": [],
   "source": [
    "Xtrain, Xtest, ytrain, ytest = train_test_split(X, y, random_state=42, stratify=y )"
   ]
  },
  {
   "cell_type": "code",
   "execution_count": 80,
   "metadata": {},
   "outputs": [],
   "source": [
    "ss = StandardScaler()\n",
    "\n",
    "Xtrain_ss = ss.fit_transform(Xtrain)\n",
    "Xtest_ss = ss.transform(Xtest)"
   ]
  },
  {
   "cell_type": "code",
   "execution_count": 81,
   "metadata": {
    "scrolled": false
   },
   "outputs": [
    {
     "name": "stdout",
     "output_type": "stream",
     "text": [
      "(180, 12)\n",
      "(60, 12)\n",
      "(180, 6)\n",
      "(60, 6)\n"
     ]
    }
   ],
   "source": [
    "print(Xtrain.shape)\n",
    "print(Xtest.shape)\n",
    "print(ytrain.shape)\n",
    "print(ytest.shape)"
   ]
  },
  {
   "cell_type": "code",
   "execution_count": 82,
   "metadata": {},
   "outputs": [],
   "source": [
    "Xtrain_ss = Xtrain_ss[0].reshape((12, 1))\n",
    "# Xtest_ss = Xtest_ss[0].reshape((12,1))"
   ]
  },
  {
   "cell_type": "code",
   "execution_count": 85,
   "metadata": {},
   "outputs": [],
   "source": [
    "cnn_model = Sequential()\n",
    "\n",
    "cnn_model.add(Conv1D(filters=6,\n",
    "                     kernel_size=(2),\n",
    "                     activation='relu',\n",
    "                     input_shape=(12,1)))\n",
    "\n",
    "cnn_model.add(MaxPool1D(pool_size = (2)))\n",
    "\n",
    "cnn_model.add(Conv1D(16,\n",
    "                     kernel_size=2,\n",
    "                     activation='relu'))\n",
    "\n",
    "cnn_model.add(MaxPool1D(pool_size=(2)))\n",
    "\n",
    "cnn_model.add(Flatten())\n",
    "\n",
    "cnn_model.add(Dense(128,\n",
    "                    activation='relu'))\n",
    "cnn_model.add(Dropout(0.5))\n",
    "\n",
    "cnn_model.add(Dense(6,\n",
    "                    activation=\"softmax\"))\n",
    "\n",
    "cnn_model.compile(loss='categorical_crossentropy',\n",
    "                  optimizer='adam',\n",
    "                  metrics=['accuracy'])"
   ]
  },
  {
   "cell_type": "code",
   "execution_count": 86,
   "metadata": {},
   "outputs": [
    {
     "ename": "ValueError",
     "evalue": "Error when checking input: expected conv1d_8_input to have 3 dimensions, but got array with shape (12, 1)",
     "output_type": "error",
     "traceback": [
      "\u001b[1;31m---------------------------------------------------------------------------\u001b[0m",
      "\u001b[1;31mValueError\u001b[0m                                Traceback (most recent call last)",
      "\u001b[1;32m<ipython-input-86-f71e825d1ca8>\u001b[0m in \u001b[0;36m<module>\u001b[1;34m\u001b[0m\n\u001b[0;32m      4\u001b[0m                         \u001b[0mvalidation_data\u001b[0m\u001b[1;33m=\u001b[0m\u001b[1;33m(\u001b[0m\u001b[0mXtest_ss\u001b[0m\u001b[1;33m,\u001b[0m \u001b[0mytest\u001b[0m\u001b[1;33m)\u001b[0m\u001b[1;33m,\u001b[0m\u001b[1;33m\u001b[0m\u001b[1;33m\u001b[0m\u001b[0m\n\u001b[0;32m      5\u001b[0m                         \u001b[0mepochs\u001b[0m\u001b[1;33m=\u001b[0m\u001b[1;36m200\u001b[0m\u001b[1;33m,\u001b[0m\u001b[1;33m\u001b[0m\u001b[1;33m\u001b[0m\u001b[0m\n\u001b[1;32m----> 6\u001b[1;33m                         verbose=0)\n\u001b[0m",
      "\u001b[1;32m~\\Anaconda3\\envs\\ga_dsi\\lib\\site-packages\\tensorflow\\python\\keras\\engine\\training.py\u001b[0m in \u001b[0;36mfit\u001b[1;34m(self, x, y, batch_size, epochs, verbose, callbacks, validation_split, validation_data, shuffle, class_weight, sample_weight, initial_epoch, steps_per_epoch, validation_steps, validation_freq, max_queue_size, workers, use_multiprocessing, **kwargs)\u001b[0m\n\u001b[0;32m    641\u001b[0m         \u001b[0mmax_queue_size\u001b[0m\u001b[1;33m=\u001b[0m\u001b[0mmax_queue_size\u001b[0m\u001b[1;33m,\u001b[0m\u001b[1;33m\u001b[0m\u001b[1;33m\u001b[0m\u001b[0m\n\u001b[0;32m    642\u001b[0m         \u001b[0mworkers\u001b[0m\u001b[1;33m=\u001b[0m\u001b[0mworkers\u001b[0m\u001b[1;33m,\u001b[0m\u001b[1;33m\u001b[0m\u001b[1;33m\u001b[0m\u001b[0m\n\u001b[1;32m--> 643\u001b[1;33m         use_multiprocessing=use_multiprocessing)\n\u001b[0m\u001b[0;32m    644\u001b[0m \u001b[1;33m\u001b[0m\u001b[0m\n\u001b[0;32m    645\u001b[0m   def evaluate(self,\n",
      "\u001b[1;32m~\\Anaconda3\\envs\\ga_dsi\\lib\\site-packages\\tensorflow\\python\\keras\\engine\\training_arrays.py\u001b[0m in \u001b[0;36mfit\u001b[1;34m(self, model, x, y, batch_size, epochs, verbose, callbacks, validation_split, validation_data, shuffle, class_weight, sample_weight, initial_epoch, steps_per_epoch, validation_steps, validation_freq, **kwargs)\u001b[0m\n\u001b[0;32m    630\u001b[0m         \u001b[0msteps\u001b[0m\u001b[1;33m=\u001b[0m\u001b[0msteps_per_epoch\u001b[0m\u001b[1;33m,\u001b[0m\u001b[1;33m\u001b[0m\u001b[1;33m\u001b[0m\u001b[0m\n\u001b[0;32m    631\u001b[0m         \u001b[0mvalidation_split\u001b[0m\u001b[1;33m=\u001b[0m\u001b[0mvalidation_split\u001b[0m\u001b[1;33m,\u001b[0m\u001b[1;33m\u001b[0m\u001b[1;33m\u001b[0m\u001b[0m\n\u001b[1;32m--> 632\u001b[1;33m         shuffle=shuffle)\n\u001b[0m\u001b[0;32m    633\u001b[0m \u001b[1;33m\u001b[0m\u001b[0m\n\u001b[0;32m    634\u001b[0m     \u001b[1;32mif\u001b[0m \u001b[0mvalidation_data\u001b[0m\u001b[1;33m:\u001b[0m\u001b[1;33m\u001b[0m\u001b[1;33m\u001b[0m\u001b[0m\n",
      "\u001b[1;32m~\\Anaconda3\\envs\\ga_dsi\\lib\\site-packages\\tensorflow\\python\\keras\\engine\\training.py\u001b[0m in \u001b[0;36m_standardize_user_data\u001b[1;34m(self, x, y, sample_weight, class_weight, batch_size, check_steps, steps_name, steps, validation_split, shuffle, extract_tensors_from_dataset)\u001b[0m\n\u001b[0;32m   2426\u001b[0m           \u001b[0mfeed_input_shapes\u001b[0m\u001b[1;33m,\u001b[0m\u001b[1;33m\u001b[0m\u001b[1;33m\u001b[0m\u001b[0m\n\u001b[0;32m   2427\u001b[0m           \u001b[0mcheck_batch_axis\u001b[0m\u001b[1;33m=\u001b[0m\u001b[1;32mFalse\u001b[0m\u001b[1;33m,\u001b[0m  \u001b[1;31m# Don't enforce the batch size.\u001b[0m\u001b[1;33m\u001b[0m\u001b[1;33m\u001b[0m\u001b[0m\n\u001b[1;32m-> 2428\u001b[1;33m           exception_prefix='input')\n\u001b[0m\u001b[0;32m   2429\u001b[0m \u001b[1;33m\u001b[0m\u001b[0m\n\u001b[0;32m   2430\u001b[0m     \u001b[1;32mif\u001b[0m \u001b[0my\u001b[0m \u001b[1;32mis\u001b[0m \u001b[1;32mnot\u001b[0m \u001b[1;32mNone\u001b[0m\u001b[1;33m:\u001b[0m\u001b[1;33m\u001b[0m\u001b[1;33m\u001b[0m\u001b[0m\n",
      "\u001b[1;32m~\\Anaconda3\\envs\\ga_dsi\\lib\\site-packages\\tensorflow\\python\\keras\\engine\\training_utils.py\u001b[0m in \u001b[0;36mstandardize_input_data\u001b[1;34m(data, names, shapes, check_batch_axis, exception_prefix)\u001b[0m\n\u001b[0;32m    510\u001b[0m                            \u001b[1;34m': expected '\u001b[0m \u001b[1;33m+\u001b[0m \u001b[0mnames\u001b[0m\u001b[1;33m[\u001b[0m\u001b[0mi\u001b[0m\u001b[1;33m]\u001b[0m \u001b[1;33m+\u001b[0m \u001b[1;34m' to have '\u001b[0m \u001b[1;33m+\u001b[0m\u001b[1;33m\u001b[0m\u001b[1;33m\u001b[0m\u001b[0m\n\u001b[0;32m    511\u001b[0m                            \u001b[0mstr\u001b[0m\u001b[1;33m(\u001b[0m\u001b[0mlen\u001b[0m\u001b[1;33m(\u001b[0m\u001b[0mshape\u001b[0m\u001b[1;33m)\u001b[0m\u001b[1;33m)\u001b[0m \u001b[1;33m+\u001b[0m \u001b[1;34m' dimensions, but got array '\u001b[0m\u001b[1;33m\u001b[0m\u001b[1;33m\u001b[0m\u001b[0m\n\u001b[1;32m--> 512\u001b[1;33m                            'with shape ' + str(data_shape))\n\u001b[0m\u001b[0;32m    513\u001b[0m         \u001b[1;32mif\u001b[0m \u001b[1;32mnot\u001b[0m \u001b[0mcheck_batch_axis\u001b[0m\u001b[1;33m:\u001b[0m\u001b[1;33m\u001b[0m\u001b[1;33m\u001b[0m\u001b[0m\n\u001b[0;32m    514\u001b[0m           \u001b[0mdata_shape\u001b[0m \u001b[1;33m=\u001b[0m \u001b[0mdata_shape\u001b[0m\u001b[1;33m[\u001b[0m\u001b[1;36m1\u001b[0m\u001b[1;33m:\u001b[0m\u001b[1;33m]\u001b[0m\u001b[1;33m\u001b[0m\u001b[1;33m\u001b[0m\u001b[0m\n",
      "\u001b[1;31mValueError\u001b[0m: Error when checking input: expected conv1d_8_input to have 3 dimensions, but got array with shape (12, 1)"
     ]
    }
   ],
   "source": [
    "history = cnn_model.fit(Xtrain_ss,\n",
    "                        ytrain,\n",
    "                        batch_size=18,\n",
    "                        validation_data=(Xtest_ss, ytest),\n",
    "                        epochs=200,\n",
    "                        verbose=0)"
   ]
  },
  {
   "cell_type": "code",
   "execution_count": 111,
   "metadata": {},
   "outputs": [
    {
     "data": {
      "image/png": "[encoded data removed]",
      "text/plain": [
       "<Figure size 432x288 with 1 Axes>"
      ]
     },
     "metadata": {
      "needs_background": "light"
     },
     "output_type": "display_data"
    }
   ],
   "source": [
    "plt.plot(history.history['loss'], label='Train')\n",
    "plt.plot(history.history['val_loss'], label='Test')\n",
    "plt.legend();"
   ]
  },
  {
   "cell_type": "code",
   "execution_count": 112,
   "metadata": {
    "scrolled": true
   },
   "outputs": [
    {
     "data": {
      "image/png": "[encoded data removed]",
      "text/plain": [
       "<Figure size 432x288 with 1 Axes>"
      ]
     },
     "metadata": {
      "needs_background": "light"
     },
     "output_type": "display_data"
    }
   ],
   "source": [
    "plt.plot(subset_history.history['accuracy'], label='Train')\n",
    "plt.plot(subset_history.history['val_accuracy'], label='Test')\n",
    "plt.legend();"
   ]
  },
  {
   "cell_type": "code",
   "execution_count": 58,
   "metadata": {},
   "outputs": [],
   "source": [
    "model = Sequential()\n",
    "\n",
    "model.add(Dense(256, input_shape=(12,), \n",
    "                       activation='relu'))\n",
    "model.add(Dropout(0.5))\n",
    "\n",
    "\n",
    "model.add(Dense(256, \n",
    "                       activation='relu'))\n",
    "model.add(Dropout(0.5))\n",
    "\n",
    "\n",
    "model.add(Dense(128, \n",
    "                       activation='relu'))\n",
    "model.add(Dropout(0.5))\n",
    "\n",
    "\n",
    "model.add(Dense(6, \n",
    "                    activation='softmax'))\n",
    "\n",
    "model.compile(\n",
    "    loss='categorical_crossentropy', \n",
    "    metrics=['accuracy'], \n",
    "    optimizer='adam')"
   ]
  },
  {
   "cell_type": "code",
   "execution_count": 59,
   "metadata": {
    "scrolled": true
   },
   "outputs": [
    {
     "name": "stdout",
     "output_type": "stream",
     "text": [
      "Train on 180 samples, validate on 60 samples\n",
      "Epoch 1/20\n",
      "180/180 - 0s - loss: 1.8997 - accuracy: 0.1333 - val_loss: 1.7319 - val_accuracy: 0.2667\n",
      "Epoch 2/20\n",
      "180/180 - 0s - loss: 1.7299 - accuracy: 0.2444 - val_loss: 1.6593 - val_accuracy: 0.3167\n",
      "Epoch 3/20\n",
      "180/180 - 0s - loss: 1.6763 - accuracy: 0.2556 - val_loss: 1.5940 - val_accuracy: 0.3500\n",
      "Epoch 4/20\n",
      "180/180 - 0s - loss: 1.6077 - accuracy: 0.3389 - val_loss: 1.5346 - val_accuracy: 0.3333\n",
      "Epoch 5/20\n",
      "180/180 - 0s - loss: 1.5714 - accuracy: 0.3167 - val_loss: 1.4880 - val_accuracy: 0.3667\n",
      "Epoch 6/20\n",
      "180/180 - 0s - loss: 1.5499 - accuracy: 0.3667 - val_loss: 1.4705 - val_accuracy: 0.3500\n",
      "Epoch 7/20\n",
      "180/180 - 0s - loss: 1.5004 - accuracy: 0.3444 - val_loss: 1.4469 - val_accuracy: 0.3667\n",
      "Epoch 8/20\n",
      "180/180 - 0s - loss: 1.4724 - accuracy: 0.3778 - val_loss: 1.4327 - val_accuracy: 0.3667\n",
      "Epoch 9/20\n",
      "180/180 - 0s - loss: 1.3759 - accuracy: 0.4167 - val_loss: 1.4245 - val_accuracy: 0.3833\n",
      "Epoch 10/20\n",
      "180/180 - 0s - loss: 1.4247 - accuracy: 0.3778 - val_loss: 1.4331 - val_accuracy: 0.3500\n",
      "Epoch 11/20\n",
      "180/180 - 0s - loss: 1.3647 - accuracy: 0.3944 - val_loss: 1.4373 - val_accuracy: 0.3667\n",
      "Epoch 12/20\n",
      "180/180 - 0s - loss: 1.3413 - accuracy: 0.4500 - val_loss: 1.4395 - val_accuracy: 0.3667\n",
      "Epoch 13/20\n",
      "180/180 - 0s - loss: 1.3500 - accuracy: 0.4111 - val_loss: 1.4589 - val_accuracy: 0.3500\n",
      "Epoch 14/20\n",
      "180/180 - 0s - loss: 1.2941 - accuracy: 0.4889 - val_loss: 1.4620 - val_accuracy: 0.3833\n",
      "Epoch 15/20\n",
      "180/180 - 0s - loss: 1.3037 - accuracy: 0.4611 - val_loss: 1.4550 - val_accuracy: 0.3833\n",
      "Epoch 16/20\n",
      "180/180 - 0s - loss: 1.3453 - accuracy: 0.4278 - val_loss: 1.4552 - val_accuracy: 0.3833\n",
      "Epoch 17/20\n",
      "180/180 - 0s - loss: 1.3176 - accuracy: 0.4667 - val_loss: 1.4503 - val_accuracy: 0.3667\n",
      "Epoch 18/20\n",
      "180/180 - 0s - loss: 1.3573 - accuracy: 0.3778 - val_loss: 1.4817 - val_accuracy: 0.3333\n",
      "Epoch 19/20\n",
      "180/180 - 0s - loss: 1.3012 - accuracy: 0.4667 - val_loss: 1.4762 - val_accuracy: 0.3500\n",
      "Epoch 20/20\n",
      "180/180 - 0s - loss: 1.3042 - accuracy: 0.4444 - val_loss: 1.4691 - val_accuracy: 0.3667\n"
     ]
    }
   ],
   "source": [
    "subset_history = model.fit(\n",
    "    x=Xtrain_ss,\n",
    "    y=ytrain,\n",
    "    batch_size=18,\n",
    "    epochs=20,\n",
    "    validation_data=(Xtest_ss, ytest),\n",
    "    verbose=2\n",
    ")"
   ]
  },
  {
   "cell_type": "code",
   "execution_count": 13,
   "metadata": {},
   "outputs": [
    {
     "data": {
      "text/plain": [
       "dict_keys(['loss', 'accuracy', 'val_loss', 'val_accuracy'])"
      ]
     },
     "execution_count": 13,
     "metadata": {},
     "output_type": "execute_result"
    }
   ],
   "source": [
    "subset_history.history.keys()"
   ]
  },
  {
   "cell_type": "code",
   "execution_count": 60,
   "metadata": {},
   "outputs": [
    {
     "data": {
      "image/png": "[encoded data removed]",
      "text/plain": [
       "<Figure size 432x288 with 1 Axes>"
      ]
     },
     "metadata": {
      "needs_background": "light"
     },
     "output_type": "display_data"
    }
   ],
   "source": [
    "plt.plot(subset_history.history['loss'], label='Train')\n",
    "plt.plot(subset_history.history['val_loss'], label='Test')\n",
    "plt.legend();"
   ]
  },
  {
   "cell_type": "code",
   "execution_count": 61,
   "metadata": {},
   "outputs": [
    {
     "data": {
      "image/png": "[encoded data removed]",
      "text/plain": [
       "<Figure size 432x288 with 1 Axes>"
      ]
     },
     "metadata": {
      "needs_background": "light"
     },
     "output_type": "display_data"
    }
   ],
   "source": [
    "plt.plot(subset_history.history['accuracy'], label='Train')\n",
    "plt.plot(subset_history.history['val_accuracy'], label='Test')\n",
    "plt.legend();"
   ]
  },
  {
   "cell_type": "code",
   "execution_count": null,
   "metadata": {},
   "outputs": [],
   "source": []
  }
 ],
 "metadata": {
  "kernelspec": {
   "display_name": "Python 3",
   "language": "python",
   "name": "python3"
  },
  "language_info": {
   "codemirror_mode": {
    "name": "ipython",
    "version": 3
   },
   "file_extension": ".py",
   "mimetype": "text/x-python",
   "name": "python",
   "nbconvert_exporter": "python",
   "pygments_lexer": "ipython3",
   "version": "3.7.4"
  },
  "pycharm": {
   "stem_cell": {
    "cell_type": "raw",
    "metadata": {
     "collapsed": false
    },
    "source": []
   }
  }
 },
 "nbformat": 4,
 "nbformat_minor": 2
}
