{
 "cells": [
  {
   "cell_type": "markdown",
   "metadata": {},
   "source": [
    "# Scraping the Music\n",
    "---\n",
    "\n",
    "The [Free Music Archive](http://freemusicarchive.org/) is a website that allows you to download thousands of royalty-free music.  This was initially going to be my only data source until I realized that the genres weren't very reliable.  Unfortunately, I had to manually download music from various other royalty-free music websites because their websites weren't as scraper-friendly.\n",
    "\n",
    "I Initially scraped over 2000 songs but after going through the files and deleting all the ones that didn't fit into any of my genres I was left with just over 800.  After downloading from other sources my final count was around 1400"
   ]
  },
  {
   "cell_type": "code",
   "execution_count": 58,
   "metadata": {
    "scrolled": true
   },
   "outputs": [],
   "source": [
    "from selenium import webdriver\n",
    "from time import sleep\n",
    "import random as rd\n",
    "import requests"
   ]
  },
  {
   "cell_type": "code",
   "execution_count": null,
   "metadata": {},
   "outputs": [],
   "source": [
    "data_dir = \"C:\\\\Users\\\\flake\\\\OneDrive\\\\Documents\\\\ga_dsi\\\\Capstone_Project\\\\data\\\\\"\n",
    "dl_dir = r\"D:\\D&B\""
   ]
  },
  {
   "cell_type": "code",
   "execution_count": null,
   "metadata": {},
   "outputs": [],
   "source": [
    "def music_scrape(base_url, start_page=1, end_page=None, dl_dir=dl_dir):\n",
    "    options = webdriver.ChromeOptions()\n",
    "    prefs = {'download.default_directory' : dl_dir}\n",
    "    options.add_experimental_option('prefs', prefs)\n",
    "    driver = webdriver.Chrome(executable_path=\"./chromedriver/windows/chromedriver.exe\", options=options)\n",
    "    page = 0\n",
    "    try: \n",
    "        for i in range(start_page, end_page + 1):\n",
    "            url = base_url + str(start_page + page)\n",
    "            print(url)\n",
    "            driver.get(url)\n",
    "            response = requests.get(url)\n",
    "            data = driver.find_element_by_class_name(\"playlist\")\n",
    "            songList = data.find_elements_by_class_name('icn-arrow')\n",
    "            page +=1 \n",
    "        \n",
    "            for item in songList:\n",
    "                sleep(rd.randrange(1,10))\n",
    "#                 print(item.get_attribute('href'))\n",
    "                driver.get(item.get_attribute('href'))\n",
    "                \n",
    "    except:\n",
    "        driver.close()\n",
    "        url = base_url + str(start_page + page)\n",
    "        print(url + ' ' + f\"Failed: Error {response}\")\n",
    "        sleep(20)\n",
    "        music_scrape(base_url, start_page=(start_page + page), end_page=end_page)  # Webserver would stop responding every\n",
    "                                                                                   # so often so I set it to restart the scraper until it finished."
   ]
  },
  {
   "cell_type": "code",
   "execution_count": null,
   "metadata": {},
   "outputs": [],
   "source": [
    "url = 'https://freemusicarchive.org/genre/Drum_amp_Bass/?sort=track_interest&d=1&page='\n",
    "\n",
    "music_scrape(url, start_page=1, end_page=40)"
   ]
  },
  {
   "cell_type": "markdown",
   "metadata": {},
   "source": []
  },
  {
   "cell_type": "code",
   "execution_count": 59,
   "metadata": {},
   "outputs": [],
   "source": [
    "from selenium.webdriver.common.action_chains import ActionChains\n",
    "actions = ActionChains(driver)"
   ]
  },
  {
   "cell_type": "code",
   "execution_count": 72,
   "metadata": {
    "scrolled": true
   },
   "outputs": [
    {
     "name": "stdout",
     "output_type": "stream",
     "text": [
      "None\n",
      "None\n",
      "None\n"
     ]
    }
   ],
   "source": [
    "\n",
    "dl_dir = \"D:\"\n",
    "options = webdriver.ChromeOptions()\n",
    "prefs = {'download.default_directory' : dl_dir}\n",
    "options.add_experimental_option('prefs', prefs)\n",
    "\n",
    "driver = webdriver.Chrome(executable_path=\"./chromedriver/windows/chromedriver.exe\")\n",
    "url = \"https://www.soundclick.com/music/charts.cfm?genreID=17&subgenreID=72\"    \n",
    "driver.get(url)\n",
    "data = driver.find_element_by_id(\"resultsBoxAjax\")\n",
    "tracks = data.find_elements_by_class_name('songlistBox')\n",
    "\n",
    "\n",
    "for item in tracks[:3]:\n",
    "#     actions.move_to_element(item.find_element_by_tag_name('a')).click().perform()\n",
    "#     print(driver.find_element_by_xpath('//div[3]/a/div/i'))\n",
    "    print(item.get_attribute('href'))\n",
    "#     for link in links:\n",
    "#         driver.get(link)\n",
    "#         driver.close()\n",
    "    \n",
    "#     sleep(rd.randrange(1,))\n",
    "#     driver.find_element_by_xpath('//*[@id=\"songlistBox_13890519\"]/div[3]/a/div/i').click()\n",
    "    "
   ]
  },
  {
   "cell_type": "code",
   "execution_count": null,
   "metadata": {},
   "outputs": [],
   "source": [
    "\n",
    "driver = webdriver.Chrome(executable_path=\"./chromedriver/windows/chromedriver.exe\")\n",
    "url = driver.command_executor._url\n",
    "session_id = driver.session_id\n",
    "driver = webdriver.Remote(command_executor=url,\n",
    "                          desired_capabilities={})\n",
    "driver.session_id = session_id"
   ]
  },
  {
   "cell_type": "code",
   "execution_count": null,
   "metadata": {},
   "outputs": [],
   "source": [
    "url = \"https://www.jamendo.com/community/house/tracks\"    \n",
    "driver.get(url)\n",
    "data = driver.find_element_by_tag_name(\"ul\")\n"
   ]
  }
 ],
 "metadata": {
  "anaconda-cloud": {},
  "kernelspec": {
   "display_name": "Python 3",
   "language": "python",
   "name": "python3"
  },
  "language_info": {
   "codemirror_mode": {
    "name": "ipython",
    "version": 3
   },
   "file_extension": ".py",
   "mimetype": "text/x-python",
   "name": "python",
   "nbconvert_exporter": "python",
   "pygments_lexer": "ipython3",
   "version": "3.7.4"
  },
  "pycharm": {
   "stem_cell": {
    "cell_type": "raw",
    "source": [],
    "metadata": {
     "collapsed": false
    }
   }
  }
 },
 "nbformat": 4,
 "nbformat_minor": 1
}