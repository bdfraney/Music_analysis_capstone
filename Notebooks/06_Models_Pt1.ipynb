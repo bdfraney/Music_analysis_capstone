{
 "cells": [
  {
   "cell_type": "markdown",
   "metadata": {},
   "source": [
    "# Dense Pt 1.\n",
    "---\n",
    "\n",
    "Using the beat-synced features parsed from the small subset of 240 songs.  Because of the issues I had with the full dataset I am not comfortable making any claims about the performance of these models even though to did better than the other ones.  It does suggest that the feature vectors extracted from the whole songset were corrupted somehow and the features themselves are good for classifiers.  "
   ]
  },
  {
   "cell_type": "code",
   "execution_count": 2,
   "metadata": {},
   "outputs": [],
   "source": [
    "import pandas as pd\n",
    "import matplotlib.pyplot as plt\n",
    "\n",
    "import tensorflow as tf\n",
    "from tensorflow.keras.layers import Dense, Dropout, Conv1D, Flatten, MaxPool1D\n",
    "from tensorflow.keras import Sequential\n",
    "\n",
    "from sklearn.model_selection import train_test_split\n",
    "from sklearn.preprocessing import StandardScaler, LabelEncoder"
   ]
  },
  {
   "cell_type": "code",
   "execution_count": 9,
   "metadata": {
    "scrolled": true
   },
   "outputs": [
    {
     "data": {
      "text/html": [
       "<div>\n",
       "<style scoped>\n",
       "    .dataframe tbody tr th:only-of-type {\n",
       "        vertical-align: middle;\n",
       "    }\n",
       "\n",
       "    .dataframe tbody tr th {\n",
       "        vertical-align: top;\n",
       "    }\n",
       "\n",
       "    .dataframe thead th {\n",
       "        text-align: right;\n",
       "    }\n",
       "</style>\n",
       "<table border=\"1\" class=\"dataframe\">\n",
       "  <thead>\n",
       "    <tr style=\"text-align: right;\">\n",
       "      <th></th>\n",
       "      <th>title</th>\n",
       "      <th>genre</th>\n",
       "      <th>file_path</th>\n",
       "    </tr>\n",
       "  </thead>\n",
       "  <tbody>\n",
       "    <tr>\n",
       "      <th>0</th>\n",
       "      <td>'test'</td>\n",
       "      <td>'DnB'</td>\n",
       "      <td>D:\\MusicSubset\\DnB\\614music+dancingwithspirits...</td>\n",
       "    </tr>\n",
       "    <tr>\n",
       "      <th>1</th>\n",
       "      <td>'one04 866609'</td>\n",
       "      <td>'DnB'</td>\n",
       "      <td>D:\\MusicSubset\\DnB\\axaschaller+one04.mp3</td>\n",
       "    </tr>\n",
       "    <tr>\n",
       "      <th>2</th>\n",
       "      <td>'Dead or Alive'</td>\n",
       "      <td>'DnB'</td>\n",
       "      <td>D:\\MusicSubset\\DnB\\beatcomplot+deadoralive.mp3</td>\n",
       "    </tr>\n",
       "    <tr>\n",
       "      <th>3</th>\n",
       "      <td>'*DnB* Panacea 1Hit Free DL!!!'</td>\n",
       "      <td>'DnB'</td>\n",
       "      <td>D:\\MusicSubset\\DnB\\beatjunkierato+dnbpanacea1h...</td>\n",
       "    </tr>\n",
       "    <tr>\n",
       "      <th>4</th>\n",
       "      <td>'*Jungle* Sensi |#1Hit Free DL!!!'</td>\n",
       "      <td>'DnB'</td>\n",
       "      <td>D:\\MusicSubset\\DnB\\beatjunkierato+junglesensi1...</td>\n",
       "    </tr>\n",
       "  </tbody>\n",
       "</table>\n",
       "</div>"
      ],
      "text/plain": [
       "                                title  genre  \\\n",
       "0                              'test'  'DnB'   \n",
       "1                      'one04 866609'  'DnB'   \n",
       "2                     'Dead or Alive'  'DnB'   \n",
       "3     '*DnB* Panacea 1Hit Free DL!!!'  'DnB'   \n",
       "4  '*Jungle* Sensi |#1Hit Free DL!!!'  'DnB'   \n",
       "\n",
       "                                           file_path  \n",
       "0  D:\\MusicSubset\\DnB\\614music+dancingwithspirits...  \n",
       "1           D:\\MusicSubset\\DnB\\axaschaller+one04.mp3  \n",
       "2     D:\\MusicSubset\\DnB\\beatcomplot+deadoralive.mp3  \n",
       "3  D:\\MusicSubset\\DnB\\beatjunkierato+dnbpanacea1h...  \n",
       "4  D:\\MusicSubset\\DnB\\beatjunkierato+junglesensi1...  "
      ]
     },
     "execution_count": 9,
     "metadata": {},
     "output_type": "execute_result"
    }
   ],
   "source": [
    "df = pd.read_csv(\"../data/subset_df.csv\")\n",
    "df.head()"
   ]
  },
  {
   "cell_type": "code",
   "execution_count": 4,
   "metadata": {},
   "outputs": [],
   "source": [
    "X = features\n",
    "y = df['genre']\n",
    "\n",
    "lb = LabelEncoder()\n",
    "y = tf.keras.utils.to_categorical(lb.fit_transform(y), num_classes=6)"
   ]
  },
  {
   "cell_type": "code",
   "execution_count": 5,
   "metadata": {},
   "outputs": [
    {
     "data": {
      "text/plain": [
       "(240, 6)"
      ]
     },
     "execution_count": 5,
     "metadata": {},
     "output_type": "execute_result"
    }
   ],
   "source": [
    "y.shape"
   ]
  },
  {
   "cell_type": "code",
   "execution_count": 6,
   "metadata": {},
   "outputs": [],
   "source": [
    "Xtrain, Xtest, ytrain, ytest = train_test_split(X, y, train_size=0.9, random_state=42, stratify=y)"
   ]
  },
  {
   "cell_type": "code",
   "execution_count": 7,
   "metadata": {},
   "outputs": [],
   "source": [
    "ss = StandardScaler()\n",
    "\n",
    "Xtrain_ss = ss.fit_transform(Xtrain)\n",
    "Xtest_ss = ss.transform(Xtest)"
   ]
  },
  {
   "cell_type": "code",
   "execution_count": 8,
   "metadata": {},
   "outputs": [
    {
     "name": "stdout",
     "output_type": "stream",
     "text": [
      "(216, 92)\n",
      "(24, 92)\n",
      "(216, 6)\n",
      "(24, 6)\n"
     ]
    }
   ],
   "source": [
    "print(Xtrain_ss.shape)\n",
    "print(Xtest_ss.shape)\n",
    "print(ytrain.shape)\n",
    "print(ytest.shape)"
   ]
  },
  {
   "cell_type": "code",
   "execution_count": 9,
   "metadata": {},
   "outputs": [],
   "source": [
    "x_val = Xtrain_ss[:23]\n",
    "xtrain = Xtrain_ss[23:]\n",
    "\n",
    "y_val = ytrain[:23]\n",
    "y_train = ytrain[23:] "
   ]
  },
  {
   "cell_type": "code",
   "execution_count": 42,
   "metadata": {},
   "outputs": [],
   "source": [
    "model = Sequential()\n",
    "\n",
    "model.add(Dense(128, input_shape=(92,), \n",
    "                       activation='relu'))\n",
    "model.add(Dropout(0.5))\n",
    "\n",
    "\n",
    "model.add(Dense(128, \n",
    "                       activation='relu'))\n",
    "model.add(Dropout(0.5))\n",
    "\n",
    "\n",
    "model.add(Dense(6, \n",
    "                    activation='softmax'))\n",
    "\n",
    "model.compile(\n",
    "    loss='categorical_crossentropy', \n",
    "    metrics=['accuracy'], \n",
    "    optimizer='rmsprop')"
   ]
  },
  {
   "cell_type": "code",
   "execution_count": 43,
   "metadata": {},
   "outputs": [
    {
     "name": "stdout",
     "output_type": "stream",
     "text": [
      "Train on 193 samples, validate on 23 samples\n",
      "Epoch 1/20\n",
      "193/193 [==============================] - 0s 2ms/sample - loss: 2.1459 - accuracy: 0.1554 - val_loss: 1.6935 - val_accuracy: 0.2609\n",
      "Epoch 2/20\n",
      "193/193 [==============================] - 0s 166us/sample - loss: 1.7458 - accuracy: 0.2953 - val_loss: 1.6070 - val_accuracy: 0.2609\n",
      "Epoch 3/20\n",
      "193/193 [==============================] - 0s 187us/sample - loss: 1.7039 - accuracy: 0.3212 - val_loss: 1.5779 - val_accuracy: 0.3478\n",
      "Epoch 4/20\n",
      "193/193 [==============================] - 0s 176us/sample - loss: 1.5868 - accuracy: 0.3731 - val_loss: 1.5572 - val_accuracy: 0.3043\n",
      "Epoch 5/20\n",
      "193/193 [==============================] - 0s 197us/sample - loss: 1.5728 - accuracy: 0.4301 - val_loss: 1.5092 - val_accuracy: 0.3043\n",
      "Epoch 6/20\n",
      "193/193 [==============================] - 0s 197us/sample - loss: 1.4902 - accuracy: 0.4145 - val_loss: 1.5049 - val_accuracy: 0.3478\n",
      "Epoch 7/20\n",
      "193/193 [==============================] - 0s 207us/sample - loss: 1.5349 - accuracy: 0.3886 - val_loss: 1.4737 - val_accuracy: 0.3043\n",
      "Epoch 8/20\n",
      "193/193 [==============================] - 0s 187us/sample - loss: 1.4028 - accuracy: 0.4041 - val_loss: 1.4359 - val_accuracy: 0.3913\n",
      "Epoch 9/20\n",
      "193/193 [==============================] - 0s 176us/sample - loss: 1.4260 - accuracy: 0.4352 - val_loss: 1.4373 - val_accuracy: 0.3913\n",
      "Epoch 10/20\n",
      "193/193 [==============================] - 0s 192us/sample - loss: 1.3647 - accuracy: 0.4352 - val_loss: 1.4164 - val_accuracy: 0.4348\n",
      "Epoch 11/20\n",
      "193/193 [==============================] - 0s 202us/sample - loss: 1.2965 - accuracy: 0.4974 - val_loss: 1.3838 - val_accuracy: 0.3913\n",
      "Epoch 12/20\n",
      "193/193 [==============================] - 0s 166us/sample - loss: 1.3739 - accuracy: 0.4611 - val_loss: 1.3743 - val_accuracy: 0.4348\n",
      "Epoch 13/20\n",
      "193/193 [==============================] - 0s 161us/sample - loss: 1.2961 - accuracy: 0.5078 - val_loss: 1.3984 - val_accuracy: 0.4348\n",
      "Epoch 14/20\n",
      "193/193 [==============================] - 0s 176us/sample - loss: 1.2822 - accuracy: 0.5130 - val_loss: 1.3916 - val_accuracy: 0.4348\n",
      "Epoch 15/20\n",
      "193/193 [==============================] - 0s 161us/sample - loss: 1.1351 - accuracy: 0.5492 - val_loss: 1.3686 - val_accuracy: 0.4348\n",
      "Epoch 16/20\n",
      "193/193 [==============================] - 0s 176us/sample - loss: 1.2056 - accuracy: 0.5285 - val_loss: 1.3653 - val_accuracy: 0.4348\n",
      "Epoch 17/20\n",
      "193/193 [==============================] - 0s 166us/sample - loss: 1.1674 - accuracy: 0.5596 - val_loss: 1.3417 - val_accuracy: 0.4348\n",
      "Epoch 18/20\n",
      "193/193 [==============================] - 0s 176us/sample - loss: 1.0739 - accuracy: 0.5907 - val_loss: 1.3188 - val_accuracy: 0.3913\n",
      "Epoch 19/20\n",
      "193/193 [==============================] - 0s 176us/sample - loss: 1.0634 - accuracy: 0.5959 - val_loss: 1.3230 - val_accuracy: 0.4348\n",
      "Epoch 20/20\n",
      "193/193 [==============================] - 0s 176us/sample - loss: 1.0494 - accuracy: 0.5803 - val_loss: 1.3196 - val_accuracy: 0.3913\n"
     ]
    }
   ],
   "source": [
    "hist_1 = model.fit(xtrain,\n",
    "                   y_train,\n",
    "                   epochs=20,\n",
    "                   batch_size=32,\n",
    "                   validation_data=(x_val, y_val))"
   ]
  },
  {
   "cell_type": "code",
   "execution_count": 46,
   "metadata": {},
   "outputs": [
    {
     "data": {
      "image/png": "[encoded data removed]",
      "text/plain": [
       "<Figure size 432x288 with 1 Axes>"
      ]
     },
     "metadata": {
      "needs_background": "light"
     },
     "output_type": "display_data"
    }
   ],
   "source": [
    "plt.plot(hist_1.history['loss'], label='Train')\n",
    "plt.plot(hist_1.history['val_loss'], label='Val')\n",
    "plt.legend();"
   ]
  },
  {
   "cell_type": "code",
   "execution_count": 47,
   "metadata": {},
   "outputs": [
    {
     "data": {
      "image/png": "[encoded data removed]",
      "text/plain": [
       "<Figure size 432x288 with 1 Axes>"
      ]
     },
     "metadata": {
      "needs_background": "light"
     },
     "output_type": "display_data"
    }
   ],
   "source": [
    "plt.plot(hist_1.history['accuracy'], label='Train')\n",
    "plt.plot(hist_1.history['val_accuracy'], label='Val')\n",
    "plt.legend();"
   ]
  },
  {
   "cell_type": "code",
   "execution_count": 48,
   "metadata": {
    "scrolled": true
   },
   "outputs": [
    {
     "name": "stdout",
     "output_type": "stream",
     "text": [
      "\r",
      "24/1 [================================================================================================================================================================================================================================================================================================================================================================================================================================================================================================================================================================================================================================================================================================================================================] - 0s 582us/sample - loss: 1.0214 - accuracy: 0.5417\n"
     ]
    },
    {
     "data": {
      "text/plain": [
       "[1.0214112997055054, 0.5416667]"
      ]
     },
     "execution_count": 48,
     "metadata": {},
     "output_type": "execute_result"
    }
   ],
   "source": [
    "model.evaluate(Xtest_ss, ytest)"
   ]
  },
  {
   "cell_type": "code",
   "execution_count": 15,
   "metadata": {},
   "outputs": [],
   "source": [
    "model = Sequential()\n",
    "\n",
    "model.add(Dense(256, input_shape=(92,), \n",
    "                       activation='relu'))\n",
    "model.add(Dropout(0.5))\n",
    "\n",
    "\n",
    "model.add(Dense(256, \n",
    "                       activation='relu'))\n",
    "model.add(Dropout(0.5))\n",
    "\n",
    "\n",
    "model.add(Dense(256, \n",
    "                       activation='relu'))\n",
    "model.add(Dropout(0.5))\n",
    "\n",
    "\n",
    "model.add(Dense(6, \n",
    "                    activation='softmax'))\n",
    "\n",
    "model.compile(\n",
    "    loss='categorical_crossentropy', \n",
    "    metrics=['accuracy'], \n",
    "    optimizer='rmsprop')"
   ]
  },
  {
   "cell_type": "code",
   "execution_count": 16,
   "metadata": {},
   "outputs": [
    {
     "name": "stdout",
     "output_type": "stream",
     "text": [
      "Train on 193 samples, validate on 23 samples\n",
      "Epoch 1/20\n",
      "193/193 - 1s - loss: 2.0613 - accuracy: 0.2124 - val_loss: 1.5682 - val_accuracy: 0.4348\n",
      "Epoch 2/20\n",
      "193/193 - 0s - loss: 1.7325 - accuracy: 0.3316 - val_loss: 1.5085 - val_accuracy: 0.4348\n",
      "Epoch 3/20\n",
      "193/193 - 0s - loss: 1.4975 - accuracy: 0.3679 - val_loss: 1.4313 - val_accuracy: 0.3913\n",
      "Epoch 4/20\n",
      "193/193 - 0s - loss: 1.4484 - accuracy: 0.4041 - val_loss: 1.4057 - val_accuracy: 0.4348\n",
      "Epoch 5/20\n",
      "193/193 - 0s - loss: 1.5658 - accuracy: 0.3627 - val_loss: 1.3723 - val_accuracy: 0.4348\n",
      "Epoch 6/20\n",
      "193/193 - 0s - loss: 1.3012 - accuracy: 0.4974 - val_loss: 1.3777 - val_accuracy: 0.4783\n",
      "Epoch 7/20\n",
      "193/193 - 0s - loss: 1.2333 - accuracy: 0.4974 - val_loss: 1.3514 - val_accuracy: 0.4348\n",
      "Epoch 8/20\n",
      "193/193 - 0s - loss: 1.2674 - accuracy: 0.4974 - val_loss: 1.3072 - val_accuracy: 0.4783\n",
      "Epoch 9/20\n",
      "193/193 - 0s - loss: 1.1481 - accuracy: 0.5648 - val_loss: 1.3064 - val_accuracy: 0.4348\n",
      "Epoch 10/20\n",
      "193/193 - 0s - loss: 1.0892 - accuracy: 0.5544 - val_loss: 1.2583 - val_accuracy: 0.4348\n",
      "Epoch 11/20\n",
      "193/193 - 0s - loss: 1.0938 - accuracy: 0.5492 - val_loss: 1.2295 - val_accuracy: 0.4348\n",
      "Epoch 12/20\n",
      "193/193 - 0s - loss: 1.0557 - accuracy: 0.5959 - val_loss: 1.2044 - val_accuracy: 0.3913\n",
      "Epoch 13/20\n",
      "193/193 - 0s - loss: 0.9980 - accuracy: 0.5855 - val_loss: 1.2947 - val_accuracy: 0.4348\n",
      "Epoch 14/20\n",
      "193/193 - 0s - loss: 0.8363 - accuracy: 0.7358 - val_loss: 1.2698 - val_accuracy: 0.3478\n",
      "Epoch 15/20\n",
      "193/193 - 0s - loss: 0.8757 - accuracy: 0.6788 - val_loss: 1.2664 - val_accuracy: 0.4348\n",
      "Epoch 16/20\n",
      "193/193 - 0s - loss: 0.8416 - accuracy: 0.6839 - val_loss: 1.3197 - val_accuracy: 0.4783\n",
      "Epoch 17/20\n",
      "193/193 - 0s - loss: 0.7728 - accuracy: 0.7409 - val_loss: 1.3612 - val_accuracy: 0.4783\n",
      "Epoch 18/20\n",
      "193/193 - 0s - loss: 0.7138 - accuracy: 0.7150 - val_loss: 1.4395 - val_accuracy: 0.4348\n",
      "Epoch 19/20\n",
      "193/193 - 0s - loss: 0.6620 - accuracy: 0.7617 - val_loss: 1.4131 - val_accuracy: 0.3913\n",
      "Epoch 20/20\n",
      "193/193 - 0s - loss: 0.6756 - accuracy: 0.7617 - val_loss: 1.4301 - val_accuracy: 0.4348\n"
     ]
    }
   ],
   "source": [
    "hist_2 = model.fit(xtrain,\n",
    "                   y_train,\n",
    "                   epochs=20,\n",
    "                   batch_size=16,\n",
    "                   validation_data=(x_val, y_val),\n",
    "                   verbose=2)"
   ]
  },
  {
   "cell_type": "code",
   "execution_count": 17,
   "metadata": {},
   "outputs": [
    {
     "data": {
      "image/png": "[encoded data removed]",
      "text/plain": [
       "<Figure size 432x288 with 1 Axes>"
      ]
     },
     "metadata": {
      "needs_background": "light"
     },
     "output_type": "display_data"
    }
   ],
   "source": [
    "plt.plot(hist_2.history['loss'], label='Train')\n",
    "plt.plot(hist_2.history['val_loss'], label='Val')\n",
    "plt.legend();"
   ]
  },
  {
   "cell_type": "code",
   "execution_count": 18,
   "metadata": {
    "scrolled": true
   },
   "outputs": [
    {
     "data": {
      "image/png": "[encoded data removed]",
      "text/plain": [
       "<Figure size 432x288 with 1 Axes>"
      ]
     },
     "metadata": {
      "needs_background": "light"
     },
     "output_type": "display_data"
    }
   ],
   "source": [
    "plt.plot(hist_2.history['accuracy'], label='Train')\n",
    "plt.plot(hist_2.history['val_accuracy'], label='Val')\n",
    "plt.legend();"
   ]
  }
 ],
 "metadata": {
  "kernelspec": {
   "display_name": "Python 3",
   "language": "python",
   "name": "python3"
  },
  "language_info": {
   "codemirror_mode": {
    "name": "ipython",
    "version": 3
   },
   "file_extension": ".py",
   "mimetype": "text/x-python",
   "name": "python",
   "nbconvert_exporter": "python",
   "pygments_lexer": "ipython3",
   "version": "3.7.4"
  },
  "pycharm": {
   "stem_cell": {
    "cell_type": "raw",
    "source": [],
    "metadata": {
     "collapsed": false
    }
   }
  }
 },
 "nbformat": 4,
 "nbformat_minor": 2
}