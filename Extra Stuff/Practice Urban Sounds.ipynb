{
 "cells": [
  {
   "cell_type": "code",
   "execution_count": null,
   "metadata": {},
   "outputs": [],
   "source": [
    "import IPython.display as ipd\n",
    "import random \n",
    "import os\n",
    "import glob\n",
    "\n",
    "import numpy as np\n",
    "import pandas as pd\n",
    "import matplotlib.pyplot as plt\n",
    "from sklearn import metrics\n",
    "from sklearn.utils import parallel_backend\n",
    "\n",
    "import librosa\n",
    "from librosa import display\n",
    "\n",
    "\n",
    "\n",
    "\n",
    "import tensorflow as tf\n",
    "from tensorflow import keras\n",
    "from tensorflow.keras import *\n",
    "\n",
    "\n",
    "%matplotlib inline"
   ]
  },
  {
   "cell_type": "code",
   "execution_count": null,
   "metadata": {},
   "outputs": [],
   "source": [
    "data, sampling_rate = librosa.load(\"./data/Train/2022.wav\")"
   ]
  },
  {
   "cell_type": "code",
   "execution_count": null,
   "metadata": {},
   "outputs": [],
   "source": [
    "sampling_rate"
   ]
  },
  {
   "cell_type": "code",
   "execution_count": null,
   "metadata": {},
   "outputs": [],
   "source": [
    "\n",
    "\n",
    "plt.figure(figsize=(12,4))\n",
    "librosa.display.waveplot(data, sr=sampling_rate);"
   ]
  },
  {
   "cell_type": "code",
   "execution_count": null,
   "metadata": {},
   "outputs": [],
   "source": [
    "train = pd.read_csv('./data/train.csv')"
   ]
  },
  {
   "cell_type": "code",
   "execution_count": null,
   "metadata": {},
   "outputs": [],
   "source": [
    "train.head()"
   ]
  },
  {
   "cell_type": "code",
   "execution_count": null,
   "metadata": {},
   "outputs": [],
   "source": []
  },
  {
   "cell_type": "code",
   "execution_count": null,
   "metadata": {},
   "outputs": [],
   "source": [
    "i = random.choice(train.index)\n",
    "data_dir = '.\\\\data\\\\'\n",
    "\n",
    "audio_name = train.ID[i]\n",
    "path = os.path.join(data_dir, 'Train', str(audio_name) + '.wav')\n",
    "\n",
    "print('Class: ', train.Class[i])\n",
    "x, sr = librosa.load(\"./data/Train/\" + str(train.ID[i]) + \".wav\")\n",
    "\n",
    "plt.figure(figsize=(12,4))\n",
    "librosa.display.waveplot(x, sr=sr);"
   ]
  },
  {
   "cell_type": "code",
   "execution_count": null,
   "metadata": {},
   "outputs": [],
   "source": [
    "train['Class'].value_counts()/5434"
   ]
  },
  {
   "cell_type": "code",
   "execution_count": null,
   "metadata": {},
   "outputs": [],
   "source": [
    "def parser(row):\n",
    "       # function to load files and extract features\n",
    "    file_name = os.path.join(os.path.abspath(data_dir), 'Train', str(row.ID) + '.wav')\n",
    "    with parallel_backend('threading', n_jobs=-1):\n",
    "           # handle exception to check if there isn't a file which is corrupted\n",
    "        try:\n",
    "              # here kaiser_fast is a technique used for faster extraction\n",
    "            X, sample_rate = librosa.load(file_name, res_type='kaiser_fast') \n",
    "              # we extract mfcc feature from data\n",
    "            mfccs = np.mean(librosa.feature.mfcc(y=X, sr=sample_rate, n_mfcc=40).T,axis=0) \n",
    "        except Exception as e:\n",
    "            print(\"Error encountered while parsing file: \", file)\n",
    "            return None, None\n",
    "\n",
    "        feature = mfccs\n",
    "        label = row.Class\n",
    "\n",
    "        return [feature, label]\n",
    "\n",
    "temp = train.apply(parser, axis=1)\n",
    "# temp.columns = ['feature', 'label']"
   ]
  },
  {
   "cell_type": "code",
   "execution_count": null,
   "metadata": {
    "scrolled": true
   },
   "outputs": [],
   "source": [
    "df = pd.DataFrame(data=feature, columns=['feature'])"
   ]
  },
  {
   "cell_type": "code",
   "execution_count": null,
   "metadata": {},
   "outputs": [],
   "source": [
    "df['label'] = label"
   ]
  },
  {
   "cell_type": "code",
   "execution_count": null,
   "metadata": {
    "scrolled": false
   },
   "outputs": [],
   "source": [
    "from sklearn.preprocessing import LabelEncoder\n",
    "\n",
    "X = np.array(df['feature'].tolist())\n",
    "y = np.array(df['label'].tolist())\n",
    "\n",
    "lb = LabelEncoder()\n",
    "\n",
    "y = keras.utils.to_categorical(lb.fit_transform(y))"
   ]
  },
  {
   "cell_type": "code",
   "execution_count": null,
   "metadata": {},
   "outputs": [],
   "source": [
    "num_labels = y.shape[1]\n",
    "filter_size = 2\n",
    "\n"
   ]
  },
  {
   "cell_type": "code",
   "execution_count": null,
   "metadata": {},
   "outputs": [],
   "source": [
    "model = keras.models.Sequential()\n",
    "\n",
    "model.add(layers.Dense(512, input_shape=(40,), \n",
    "                       activation='relu'))\n",
    "model.add(layers.Dropout(0.1))\n",
    "\n",
    "\n",
    "model.add(layers.Dense(256, \n",
    "                       activation='relu'))\n",
    "model.add(layers.Dropout(0.1))\n",
    "\n",
    "\n",
    "model.add(layers.Dense(num_labels, \n",
    "                       activation='softmax'))\n",
    "\n",
    "model.compile(\n",
    "    loss='categorical_crossentropy', \n",
    "    metrics=['accuracy'], \n",
    "    optimizer='adam')"
   ]
  },
  {
   "cell_type": "code",
   "execution_count": null,
   "metadata": {},
   "outputs": [],
   "source": [
    "from sklearn.model_selection import train_test_split\n",
    "\n",
    "Xtrain, Xtest, ytrain, ytest = train_test_split(X, y, stratify=y, random_state=42)"
   ]
  },
  {
   "cell_type": "code",
   "execution_count": null,
   "metadata": {},
   "outputs": [],
   "source": [
    "from sklearn.preprocessing import StandardScaler\n",
    "ss = StandardScaler()\n",
    "\n",
    "Xtrain_ss = ss.fit_transform(Xtrain)\n",
    "Xtest_ss = ss.transform(Xtest)"
   ]
  },
  {
   "cell_type": "code",
   "execution_count": null,
   "metadata": {},
   "outputs": [],
   "source": [
    "model.fit(x=Xtrain, \n",
    "          y=ytrain, \n",
    "          batch_size=32, \n",
    "          epochs=5, \n",
    "          validation_data=(Xtest, ytest))"
   ]
  }
 ],
 "metadata": {
  "kernelspec": {
   "display_name": "Python 3",
   "language": "python",
   "name": "python3"
  },
  "language_info": {
   "codemirror_mode": {
    "name": "ipython",
    "version": 3
   },
   "file_extension": ".py",
   "mimetype": "text/x-python",
   "name": "python",
   "nbconvert_exporter": "python",
   "pygments_lexer": "ipython3",
   "version": "3.7.3"
  }
 },
 "nbformat": 4,
 "nbformat_minor": 2
}
