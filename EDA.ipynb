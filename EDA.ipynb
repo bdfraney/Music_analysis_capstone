{
 "cells": [
  {
   "cell_type": "code",
   "execution_count": 87,
   "metadata": {
    "collapsed": true
   },
   "outputs": [],
   "source": [
    "import os\n",
    "import IPython.display as ipd\n",
    "\n",
    "import pandas as pd\n",
    "import numpy as np\n",
    "import matplotlib.pyplot as plt\n",
    "\n",
    "import librosa\n",
    "from librosa import display, beat\n",
    "import glob \n",
    "\n",
    "import mutagen\n",
    "from mutagen.mp3 import MP3, EasyMP3\n",
    "from mutagen.easyid3 import EasyID3\n",
    "from mutagen.id3 import ID3, TCON"
   ]
  },
  {
   "cell_type": "code",
   "execution_count": null,
   "metadata": {},
   "outputs": [],
   "source": [
    "data, sampling_rate = librosa.load('./data/Chad_Crouch_-_06_-_Pacing.mp3')"
   ]
  },
  {
   "cell_type": "code",
   "execution_count": null,
   "metadata": {},
   "outputs": [],
   "source": [
    "plt.figure(figsize=(12, 4))\n",
    "librosa.display.waveplot(data, sr=sampling_rate);"
   ]
  },
  {
   "cell_type": "code",
   "execution_count": null,
   "metadata": {},
   "outputs": [],
   "source": [
    "# Estimate a static tempo\n",
    "y, sr = librosa.load(\"./data/Chad_Crouch_-_06_-_Pacing.mp3\")\n",
    "onset_env = librosa.onset.onset_strength(y, sr=sr)\n",
    "tempo = librosa.beat.tempo(onset_envelope=onset_env, sr=sr)\n",
    "tempo"
   ]
  },
  {
   "cell_type": "markdown",
   "metadata": {},
   "source": [
    "## Mutagen ID3 tags"
   ]
  },
  {
   "cell_type": "code",
   "execution_count": null,
   "metadata": {},
   "outputs": [],
   "source": [
    "path = '~/D:'"
   ]
  },
  {
   "cell_type": "code",
   "execution_count": null,
   "metadata": {
    "scrolled": true
   },
   "outputs": [],
   "source": [
    "demo = \"D:/Chad_Crouch_-_06_-_Pacing.mp3\"\n",
    "audio = MP3(demo)\n",
    "audio"
   ]
  },
  {
   "cell_type": "code",
   "execution_count": null,
   "metadata": {
    "scrolled": true
   },
   "outputs": [],
   "source": [
    "audio.add(TIT2(text=\"Title2\"))"
   ]
  },
  {
   "cell_type": "code",
   "execution_count": null,
   "metadata": {},
   "outputs": [],
   "source": [
    "# # Changing all the genre tags to match their specific genres\n",
    "\n",
    "# def id3_change(folder_path, ID3='TCON', text=None, file_type=\".mp3\"):\n",
    "    \n",
    "#     path = (folder_path + '/*' + file_type)\n",
    "    \n",
    "#     for track in glob.glob(path):\n",
    "#         track = mutagen.File(track)\n",
    "#         if track.tags == None:\n",
    "#             add_details(track, text)\n",
    "#         else:\n",
    "#             track.tags.add(TCON(text=[text]))\n",
    "#             track.save()\n",
    "\n",
    "        \n",
    "# #     return \"All tags updated!\""
   ]
  },
  {
   "cell_type": "code",
   "execution_count": null,
   "metadata": {},
   "outputs": [],
   "source": [
    "# # Changing all the genre tags to match their specific genres\n",
    "\n",
    "# def tag_change(folder_path, easyID3_tag='genre', text=None, file_type=\".mp3\"):\n",
    "    \n",
    "#     path = (folder_path + '/*' + file_type) \n",
    "    \n",
    "#     for track in glob.glob(path):\n",
    "#         track = EasyID3(track)\n",
    "#         track[easyID3_tag] = text\n",
    "#         audio.save()\n",
    "        \n",
    "#     return \"All tags updated!\""
   ]
  },
  {
   "cell_type": "code",
   "execution_count": null,
   "metadata": {},
   "outputs": [],
   "source": [
    "def add_details(file_name, genre, lyrics=\"\"):\n",
    "    '''\n",
    "    Adds the details to song\n",
    "    '''\n",
    "\n",
    "    tags = EasyMP3(file_name)\n",
    "    tags['genre'] = genre\n",
    "    tags.save()\n",
    "\n",
    "    tags = ID3(file_name)\n",
    "\n",
    "    tags.save(file_name)"
   ]
  },
  {
   "cell_type": "code",
   "execution_count": null,
   "metadata": {},
   "outputs": [],
   "source": [
    "path = \"D:/DnB/*.mp3\"\n",
    "for track in glob.glob(path):\n",
    "    add_details(track, 'DnB')"
   ]
  },
  {
   "cell_type": "code",
   "execution_count": null,
   "metadata": {},
   "outputs": [],
   "source": [
    "path = \"D:/Dubstep/*.mp3\"\n",
    "for track in glob.glob(path):\n",
    "    add_details(track, 'Dubstep')"
   ]
  },
  {
   "cell_type": "code",
   "execution_count": null,
   "metadata": {},
   "outputs": [],
   "source": [
    "path = \"D:/Garage/*.mp3\"\n",
    "for track in glob.glob(path):\n",
    "    add_details(track, 'Garage Rock')"
   ]
  },
  {
   "cell_type": "code",
   "execution_count": null,
   "metadata": {},
   "outputs": [],
   "source": [
    "path = \"D:/House/*.mp3\"\n",
    "for track in glob.glob(path):\n",
    "    add_details(track, 'House')\n"
   ]
  },
  {
   "cell_type": "code",
   "execution_count": null,
   "metadata": {},
   "outputs": [],
   "source": [
    "path = \"D:/Indie-Rock/*.mp3\"\n",
    "for track in glob.glob(path):\n",
    "    add_details(track, 'Indie Rock')"
   ]
  },
  {
   "cell_type": "code",
   "execution_count": null,
   "metadata": {},
   "outputs": [],
   "source": [
    "path = \"D:/Techno/*.mp3\"\n",
    "for track in glob.glob(path):\n",
    "    add_details(track, 'Techno')"
   ]
  },
  {
   "cell_type": "code",
   "execution_count": 109,
   "metadata": {},
   "outputs": [],
   "source": [
    "song_keys = []\n",
    "song_values = []\n",
    "path = 'D:\\Music\\DnB\\*.mp3'\n",
    "for track_info in glob.glob(path):\n",
    "    tags = EasyID3(track_info)\n",
    "    song_keys.append(tags.keys())\n",
    "    song_values.append(tags.values())\n",
    "# dnb_dict = dict(zip(song_keys, song_values))"
   ]
  },
  {
   "cell_type": "code",
   "execution_count": null,
   "metadata": {},
   "outputs": [],
   "source": [
    "song_dict = {}\n",
    "for folder in glob.glob('D:\\Music\\*'):\n",
    "    for file in glob.glob(folder + '\\*.mp3'):\n",
    "        song_dict = {key, value for keys, values in EasyID3(file)}\n",
    "#         keys = track.keys()\n",
    "#         values = track.values()\n",
    "#         song_dict = dict(zip(keys, values))"
   ]
  },
  {
   "cell_type": "code",
   "execution_count": null,
   "metadata": {},
   "outputs": [],
   "source": [
    "song_dict"
   ]
  },
  {
   "cell_type": "code",
   "execution_count": null,
   "metadata": {},
   "outputs": [],
   "source": [
    "song_dict"
   ]
  },
  {
   "cell_type": "code",
   "execution_count": null,
   "metadata": {},
   "outputs": [],
   "source": [
    "song_df = pd.DataFrame.from_dict(song_dict, orient='index').T"
   ]
  },
  {
   "cell_type": "code",
   "execution_count": null,
   "metadata": {},
   "outputs": [],
   "source": [
    "song_df"
   ]
  }
 ],
 "metadata": {
  "kernelspec": {
   "display_name": "Python 3",
   "language": "python",
   "name": "python3"
  },
  "language_info": {
   "codemirror_mode": {
    "name": "ipython",
    "version": 3
   },
   "file_extension": ".py",
   "mimetype": "text/x-python",
   "name": "python",
   "nbconvert_exporter": "python",
   "pygments_lexer": "ipython3",
   "version": "3.7.4"
  }
 },
 "nbformat": 4,
 "nbformat_minor": 2
}
