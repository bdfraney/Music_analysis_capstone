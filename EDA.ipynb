{
 "cells": [
  {
   "cell_type": "code",
   "execution_count": 1,
   "metadata": {},
   "outputs": [],
   "source": [
    "import os\n",
    "import IPython.display as ipd\n",
    "\n",
    "import pandas as pd\n",
    "import numpy as np\n",
    "import matplotlib.pyplot as plt\n",
    "\n",
    "import librosa\n",
    "from librosa import display, beat\n",
    "import glob \n",
    "\n",
    "import mutagen\n",
    "from mutagen.mp3 import MP3, EasyMP3\n",
    "from mutagen.easyid3 import EasyID3\n",
    "from mutagen.id3 import ID3, TCON"
   ]
  },
  {
   "cell_type": "markdown",
   "metadata": {},
   "source": [
    "## Quick look at Librosa"
   ]
  },
  {
   "cell_type": "code",
   "execution_count": null,
   "metadata": {},
   "outputs": [],
   "source": [
    "data, sampling_rate = librosa.load('./data/Chad_Crouch_-_06_-_Pacing.mp3')"
   ]
  },
  {
   "cell_type": "code",
   "execution_count": null,
   "metadata": {},
   "outputs": [],
   "source": [
    "plt.figure(figsize=(12, 4))\n",
    "librosa.display.waveplot(data, sr=sampling_rate);   # Audio Time series that will be used to create spectrograms"
   ]
  },
  {
   "cell_type": "code",
   "execution_count": null,
   "metadata": {},
   "outputs": [],
   "source": [
    "# Estimate a static tempo, not really necessary but why not?\n",
    "y, sr = librosa.load(\"./data/Chad_Crouch_-_06_-_Pacing.mp3\")\n",
    "onset_env = librosa.onset.onset_strength(y, sr=sr)\n",
    "tempo = librosa.beat.tempo(onset_envelope=onset_env, sr=sr)\n",
    "tempo                                           "
   ]
  },
  {
   "cell_type": "markdown",
   "metadata": {},
   "source": [
    "## Mutagen ID3 tags"
   ]
  },
  {
   "cell_type": "code",
   "execution_count": null,
   "metadata": {},
   "outputs": [],
   "source": [
    "# # Changing all the genre tags to match their specific genres\n",
    "\n",
    "# def id3_change(folder_path, ID3='TCON', text=None, file_type=\".mp3\"):\n",
    "    \n",
    "#     path = (folder_path + '/*' + file_type)\n",
    "    \n",
    "#     for track in glob.glob(path):\n",
    "#         track = mutagen.File(track)\n",
    "#         if track.tags == None:\n",
    "#             add_details(track, text)\n",
    "#         else:\n",
    "#             track.tags.add(TCON(text=[text]))\n",
    "#             track.save()\n",
    "\n",
    "        \n",
    "# #     return \"All tags updated!\""
   ]
  },
  {
   "cell_type": "code",
   "execution_count": null,
   "metadata": {},
   "outputs": [],
   "source": [
    "# # Changing all the genre tags to match their specific genres\n",
    "\n",
    "# def tag_change(folder_path, easyID3_tag='genre', text=None, file_type=\".mp3\"):\n",
    "    \n",
    "#     path = (folder_path + '/*' + file_type) \n",
    "    \n",
    "#     for track in glob.glob(path):\n",
    "#         track = EasyID3(track)\n",
    "#         track[easyID3_tag] = text\n",
    "#         audio.save()\n",
    "        \n",
    "#     return \"All tags updated!\""
   ]
  },
  {
   "cell_type": "code",
   "execution_count": null,
   "metadata": {},
   "outputs": [],
   "source": [
    "def add_details(file_name, tag='genre', text):\n",
    "    '''\n",
    "    Adds the details to song\n",
    "    '''\n",
    "\n",
    "    tags = EasyMP3(file_name)\n",
    "    tags[tag] = text\n",
    "    tags.save()\n",
    "\n",
    "    tags = ID3(file_name)\n",
    "\n",
    "    tags.save(file_name)"
   ]
  },
  {
   "cell_type": "code",
   "execution_count": null,
   "metadata": {},
   "outputs": [],
   "source": [
    "# Making sure all the labels for tracks are set\n",
    "\n",
    "path1 = \"D:/DnB/*.mp3\"\n",
    "for track in glob.glob(path1):\n",
    "    add_details(track, 'DnB')\n",
    "    \n",
    "path2 = \"D:/Dubstep/*.mp3\"\n",
    "for track in glob.glob(path2):\n",
    "    add_details(track, 'Dubstep')\n",
    "    \n",
    "path3 = \"D:/Garage/*.mp3\"\n",
    "for track in glob.glob(path3):\n",
    "    add_details(track, 'Garage Rock')\n",
    "    \n",
    "path4 = \"D:/House/*.mp3\"\n",
    "for track in glob.glob(path4):\n",
    "    add_details(track, 'House')\n",
    "    \n",
    "path5 = \"D:/Indie-Rock/*.mp3\"\n",
    "for track in glob.glob(path5):\n",
    "    add_details(track, 'Indie Rock')\n",
    "    \n",
    "path6 = \"D:/Techno/*.mp3\"\n",
    "for track in glob.glob(path6):\n",
    "    add_details(track, 'Techno')"
   ]
  },
  {
   "cell_type": "code",
   "execution_count": 140,
   "metadata": {},
   "outputs": [],
   "source": [
    "tracks = [tracks for tracks in glob.glob(\"D:\\Music\\*\\*.mp3\")]     # Get list of all the tracks\n",
    "song_list = [dict(EasyID3(tracks).items()) for tracks in tracks]  # Create a list of dictionaries for ID3 tags to create a data frame from"
   ]
  },
  {
   "cell_type": "code",
   "execution_count": 232,
   "metadata": {},
   "outputs": [],
   "source": [
    "track_df = pd.DataFrame(song_list)\n",
    "track_df = track_df[['title', 'genre']]  # Only need Title and Genre "
   ]
  },
  {
   "cell_type": "code",
   "execution_count": 233,
   "metadata": {},
   "outputs": [
    {
     "data": {
      "text/html": [
       "<div>\n",
       "<style scoped>\n",
       "    .dataframe tbody tr th:only-of-type {\n",
       "        vertical-align: middle;\n",
       "    }\n",
       "\n",
       "    .dataframe tbody tr th {\n",
       "        vertical-align: top;\n",
       "    }\n",
       "\n",
       "    .dataframe thead th {\n",
       "        text-align: right;\n",
       "    }\n",
       "</style>\n",
       "<table border=\"1\" class=\"dataframe\">\n",
       "  <thead>\n",
       "    <tr style=\"text-align: right;\">\n",
       "      <th></th>\n",
       "      <th>title</th>\n",
       "      <th>genre</th>\n",
       "    </tr>\n",
       "  </thead>\n",
       "  <tbody>\n",
       "    <tr>\n",
       "      <th>0</th>\n",
       "      <td>'002 Donald Trump'</td>\n",
       "      <td>'DnB'</td>\n",
       "    </tr>\n",
       "    <tr>\n",
       "      <th>1</th>\n",
       "      <td>'003 Traffic Jam'</td>\n",
       "      <td>'DnB'</td>\n",
       "    </tr>\n",
       "    <tr>\n",
       "      <th>2</th>\n",
       "      <td>'004 Circles Squares'</td>\n",
       "      <td>'DnB'</td>\n",
       "    </tr>\n",
       "    <tr>\n",
       "      <th>3</th>\n",
       "      <td>'005 I Want To Lick The Moon'</td>\n",
       "      <td>'DnB'</td>\n",
       "    </tr>\n",
       "    <tr>\n",
       "      <th>4</th>\n",
       "      <td>'006 Lentil Breakdown'</td>\n",
       "      <td>'DnB'</td>\n",
       "    </tr>\n",
       "  </tbody>\n",
       "</table>\n",
       "</div>"
      ],
      "text/plain": [
       "                           title  genre\n",
       "0             '002 Donald Trump'  'DnB'\n",
       "1              '003 Traffic Jam'  'DnB'\n",
       "2          '004 Circles Squares'  'DnB'\n",
       "3  '005 I Want To Lick The Moon'  'DnB'\n",
       "4         '006 Lentil Breakdown'  'DnB'"
      ]
     },
     "execution_count": 233,
     "metadata": {},
     "output_type": "execute_result"
    }
   ],
   "source": [
    "track_df.fillna('', inplace=True)                     # Title not necessary since I'll be adding file paths as well\n",
    "track_df = track_df.astype(str)                       # All columns were lists of length 1 so converting to strings\n",
    "track_df['title'] = track_df['title'].str.strip(\"[]\") \n",
    "track_df['genre'] = track_df['genre'].str.strip(\"[]\")\n",
    "track_df.head()"
   ]
  },
  {
   "cell_type": "code",
   "execution_count": 234,
   "metadata": {
    "scrolled": true
   },
   "outputs": [
    {
     "data": {
      "text/html": [
       "<div>\n",
       "<style scoped>\n",
       "    .dataframe tbody tr th:only-of-type {\n",
       "        vertical-align: middle;\n",
       "    }\n",
       "\n",
       "    .dataframe tbody tr th {\n",
       "        vertical-align: top;\n",
       "    }\n",
       "\n",
       "    .dataframe thead th {\n",
       "        text-align: right;\n",
       "    }\n",
       "</style>\n",
       "<table border=\"1\" class=\"dataframe\">\n",
       "  <thead>\n",
       "    <tr style=\"text-align: right;\">\n",
       "      <th></th>\n",
       "      <th>title</th>\n",
       "      <th>genre</th>\n",
       "      <th>file_path</th>\n",
       "    </tr>\n",
       "  </thead>\n",
       "  <tbody>\n",
       "    <tr>\n",
       "      <th>0</th>\n",
       "      <td>'002 Donald Trump'</td>\n",
       "      <td>'DnB'</td>\n",
       "      <td>D:\\Music\\DnB\\002_Donald_Trump.mp3</td>\n",
       "    </tr>\n",
       "    <tr>\n",
       "      <th>1</th>\n",
       "      <td>'003 Traffic Jam'</td>\n",
       "      <td>'DnB'</td>\n",
       "      <td>D:\\Music\\DnB\\003_Traffic_Jam.mp3</td>\n",
       "    </tr>\n",
       "    <tr>\n",
       "      <th>2</th>\n",
       "      <td>'004 Circles Squares'</td>\n",
       "      <td>'DnB'</td>\n",
       "      <td>D:\\Music\\DnB\\004_Circles_Squares.mp3</td>\n",
       "    </tr>\n",
       "    <tr>\n",
       "      <th>3</th>\n",
       "      <td>'005 I Want To Lick The Moon'</td>\n",
       "      <td>'DnB'</td>\n",
       "      <td>D:\\Music\\DnB\\005_I_Want_To_Lick_The_Moon.mp3</td>\n",
       "    </tr>\n",
       "    <tr>\n",
       "      <th>4</th>\n",
       "      <td>'006 Lentil Breakdown'</td>\n",
       "      <td>'DnB'</td>\n",
       "      <td>D:\\Music\\DnB\\006_Lentil_Breakdown.mp3</td>\n",
       "    </tr>\n",
       "  </tbody>\n",
       "</table>\n",
       "</div>"
      ],
      "text/plain": [
       "                           title  genre  \\\n",
       "0             '002 Donald Trump'  'DnB'   \n",
       "1              '003 Traffic Jam'  'DnB'   \n",
       "2          '004 Circles Squares'  'DnB'   \n",
       "3  '005 I Want To Lick The Moon'  'DnB'   \n",
       "4         '006 Lentil Breakdown'  'DnB'   \n",
       "\n",
       "                                      file_path  \n",
       "0             D:\\Music\\DnB\\002_Donald_Trump.mp3  \n",
       "1              D:\\Music\\DnB\\003_Traffic_Jam.mp3  \n",
       "2          D:\\Music\\DnB\\004_Circles_Squares.mp3  \n",
       "3  D:\\Music\\DnB\\005_I_Want_To_Lick_The_Moon.mp3  \n",
       "4         D:\\Music\\DnB\\006_Lentil_Breakdown.mp3  "
      ]
     },
     "execution_count": 234,
     "metadata": {},
     "output_type": "execute_result"
    }
   ],
   "source": [
    "track_df['file_path'] = tracks   # Adding column for file paths \n",
    "track_df.head()"
   ]
  },
  {
   "cell_type": "code",
   "execution_count": 236,
   "metadata": {},
   "outputs": [
    {
     "data": {
      "text/plain": [
       "title        0\n",
       "genre        0\n",
       "file_path    0\n",
       "dtype: int64"
      ]
     },
     "execution_count": 236,
     "metadata": {},
     "output_type": "execute_result"
    }
   ],
   "source": [
    "track_df.isna().sum()  # Checking to make sure all nulls are dealt with"
   ]
  },
  {
   "cell_type": "code",
   "execution_count": 237,
   "metadata": {},
   "outputs": [],
   "source": [
    "track_df.to_csv('track_df.csv', index=False)  # Only need to add MFCCs for each track"
   ]
  }
 ],
 "metadata": {
  "kernelspec": {
   "display_name": "Python 3",
   "language": "python",
   "name": "python3"
  },
  "language_info": {
   "codemirror_mode": {
    "name": "ipython",
    "version": 3
   },
   "file_extension": ".py",
   "mimetype": "text/x-python",
   "name": "python",
   "nbconvert_exporter": "python",
   "pygments_lexer": "ipython3",
   "version": "3.7.4"
  }
 },
 "nbformat": 4,
 "nbformat_minor": 2
}
